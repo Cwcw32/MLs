{
 "cells": [
  {
   "cell_type": "markdown",
   "id": "4bd76c5d",
   "metadata": {},
   "source": [
    "# 搭建卷积神经网络，对手写数字识别图像数据集进行 10 分类。\n",
    "## 算法流程：\n",
    "### （1）读取、加载、处理数据集（可选取部分数据集）； （√）\n",
    "### （2）搭建卷积神经网络； （√）\n",
    "### （3）训练所搭建的神经网络； （√）\n",
    "### （4）利用准确率等指标评估所训练的神经网络；（√）\n",
    "### 加分项 1，保存模型并加载模型，用自己手写的数字图片（手机的便签或微 软画图工具，保证没有阴影）测试分类效果，像素需要降低尽量保持在 28x28x1。 （√）\n",
    "### 加分项 2，使用 pytorch 或只使用 tensorflow 完成两个案例任意一个（tf√）"
   ]
  },
  {
   "cell_type": "markdown",
   "id": "9f98af29",
   "metadata": {},
   "source": [
    "（1）读取、加载、处理数据集（可选取部分数据集）；"
   ]
  },
  {
   "cell_type": "code",
   "execution_count": 1,
   "id": "fb5d165c",
   "metadata": {
    "scrolled": true
   },
   "outputs": [
    {
     "name": "stderr",
     "output_type": "stream",
     "text": [
      "Using TensorFlow backend.\n",
      "WARNING:root:Limited tf.compat.v2.summary API due to missing TensorBoard installation.\n"
     ]
    }
   ],
   "source": [
    "from keras.models import Sequential\n",
    "from keras.layers import Conv2D, MaxPool2D\n",
    "from keras.layers import Dense, Flatten\n",
    "import keras\n",
    "from keras.datasets import mnist\n",
    "import matplotlib.pyplot as plt\n",
    "\n",
    "#加载数据\n",
    "(X_train, y_train), (X_test, y_test) = mnist.load_data()\n",
    "img_x, img_y = X_train.shape[1], X_train.shape[2]\n",
    "\n",
    "#数据预处理\n",
    "X_train = X_train.reshape(X_train.shape[0], img_x, img_y, 1)\n",
    "X_test = X_test.reshape(X_test.shape[0], img_x, img_y, 1)\n",
    "X_train = X_train.astype('float32')\n",
    "X_test = X_test.astype('float32')\n",
    "X_train /= 255\n",
    "X_test /= 255\n",
    "\n"
   ]
  },
  {
   "cell_type": "markdown",
   "id": "e2b9bf07",
   "metadata": {},
   "source": [
    "2）搭建卷积神经网络； （加分项 2，使用 pytorch 或只使用 tensorflow 完成两个案例任意一个）"
   ]
  },
  {
   "cell_type": "code",
   "execution_count": 2,
   "id": "118a845b",
   "metadata": {},
   "outputs": [
    {
     "name": "stdout",
     "output_type": "stream",
     "text": [
      "WARNING:tensorflow:From C:\\Users\\29459\\anaconda3\\envs\\python37\\lib\\site-packages\\tensorflow_core\\python\\ops\\resource_variable_ops.py:1630: calling BaseResourceVariable.__init__ (from tensorflow.python.ops.resource_variable_ops) with constraint is deprecated and will be removed in a future version.\n",
      "Instructions for updating:\n",
      "If using Keras pass *_constraint arguments to layers.\n"
     ]
    },
    {
     "name": "stderr",
     "output_type": "stream",
     "text": [
      "WARNING:tensorflow:From C:\\Users\\29459\\anaconda3\\envs\\python37\\lib\\site-packages\\tensorflow_core\\python\\ops\\resource_variable_ops.py:1630: calling BaseResourceVariable.__init__ (from tensorflow.python.ops.resource_variable_ops) with constraint is deprecated and will be removed in a future version.\n",
      "Instructions for updating:\n",
      "If using Keras pass *_constraint arguments to layers.\n"
     ]
    },
    {
     "name": "stdout",
     "output_type": "stream",
     "text": [
      "WARNING:tensorflow:From C:\\Users\\29459\\anaconda3\\envs\\python37\\lib\\site-packages\\keras\\backend\\tensorflow_backend.py:4070: The name tf.nn.max_pool is deprecated. Please use tf.nn.max_pool2d instead.\n",
      "\n"
     ]
    },
    {
     "name": "stderr",
     "output_type": "stream",
     "text": [
      "WARNING:tensorflow:From C:\\Users\\29459\\anaconda3\\envs\\python37\\lib\\site-packages\\keras\\backend\\tensorflow_backend.py:4070: The name tf.nn.max_pool is deprecated. Please use tf.nn.max_pool2d instead.\n",
      "\n"
     ]
    }
   ],
   "source": [
    "y_train = keras.utils.to_categorical(y_train, num_classes=10)\n",
    "y_test = keras.utils.to_categorical(y_test, num_classes=10)\n",
    "\n",
    "#构建模型\n",
    "model = Sequential()\n",
    "model.add(Conv2D(32, kernel_size=(5,5),padding='same', activation='relu', input_shape=(img_x, img_y, 1)))\n",
    "model.add(MaxPool2D(pool_size=(2,2), strides=(2,2)))\n",
    "model.add(Conv2D(64, kernel_size=(5,5), padding='same',activation='relu'))\n",
    "model.add(MaxPool2D(pool_size=(2,2), strides=(2,2)))\n",
    "model.add(Flatten())\n",
    "model.add(Dense(1000, activation='relu'))\n",
    "model.add(Dense(10, activation='softmax'))\n",
    "\n",
    "\n"
   ]
  },
  {
   "cell_type": "code",
   "execution_count": 3,
   "id": "7b19ea36",
   "metadata": {},
   "outputs": [
    {
     "name": "stdout",
     "output_type": "stream",
     "text": [
      "Model: \"sequential_1\"\n",
      "_________________________________________________________________\n",
      "Layer (type)                 Output Shape              Param #   \n",
      "=================================================================\n",
      "conv2d_1 (Conv2D)            (None, 28, 28, 32)        832       \n",
      "_________________________________________________________________\n",
      "max_pooling2d_1 (MaxPooling2 (None, 14, 14, 32)        0         \n",
      "_________________________________________________________________\n",
      "conv2d_2 (Conv2D)            (None, 14, 14, 64)        51264     \n",
      "_________________________________________________________________\n",
      "max_pooling2d_2 (MaxPooling2 (None, 7, 7, 64)          0         \n",
      "_________________________________________________________________\n",
      "flatten_1 (Flatten)          (None, 3136)              0         \n",
      "_________________________________________________________________\n",
      "dense_1 (Dense)              (None, 1000)              3137000   \n",
      "_________________________________________________________________\n",
      "dense_2 (Dense)              (None, 10)                10010     \n",
      "=================================================================\n",
      "Total params: 3,199,106\n",
      "Trainable params: 3,199,106\n",
      "Non-trainable params: 0\n",
      "_________________________________________________________________\n"
     ]
    }
   ],
   "source": [
    "model.summary()"
   ]
  },
  {
   "cell_type": "markdown",
   "id": "ccc5f877",
   "metadata": {},
   "source": [
    "（3）训练所搭建的神经网络； （√）"
   ]
  },
  {
   "cell_type": "code",
   "execution_count": 4,
   "id": "a4363c42",
   "metadata": {},
   "outputs": [],
   "source": [
    "class LossHistory(keras.callbacks.Callback):\n",
    "    def on_train_begin(self, logs={}):\n",
    "        self.losses = {'batch':[], 'epoch':[]}\n",
    "        self.accuracy = {'batch':[], 'epoch':[]}\n",
    "        self.val_loss = {'batch':[], 'epoch':[]}\n",
    "        self.val_acc = {'batch':[], 'epoch':[]}\n",
    " \n",
    "    def on_batch_end(self, batch, logs={}):\n",
    "        self.losses['batch'].append(logs.get('loss'))\n",
    "        self.accuracy['batch'].append(logs.get('accuracy'))\n",
    "        self.val_loss['batch'].append(logs.get('val_loss'))\n",
    "        self.val_acc['batch'].append(logs.get('val_acc'))\n",
    " \n",
    "    def on_epoch_end(self, batch, logs={}):\n",
    "        self.losses['epoch'].append(logs.get('loss'))\n",
    "        self.accuracy['epoch'].append(logs.get('accuracy'))\n",
    "        self.val_loss['epoch'].append(logs.get('val_loss'))\n",
    "        self.val_acc['epoch'].append(logs.get('val_acc'))\n",
    " \n",
    "    def loss_plot(self, loss_type):\n",
    "        iters = range(len(self.losses[loss_type]))\n",
    "        plt.figure()\n",
    "        # acc\n",
    "        plt.plot(iters, self.accuracy[loss_type], 'r', label='train acc')\n",
    "        # loss\n",
    "        plt.plot(iters, self.losses[loss_type], 'g', label='train loss')\n",
    "        if loss_type == 'epoch':\n",
    "            # val_acc\n",
    "            plt.plot(iters, self.val_acc[loss_type], 'b', label='val acc')\n",
    "            # val_loss\n",
    "            plt.plot(iters, self.val_loss[loss_type], 'k', label='val loss')\n",
    "        plt.grid(True)\n",
    "        plt.xlabel(loss_type)\n",
    "        plt.ylabel('acc-loss')\n",
    "        plt.legend(loc=\"upper right\")\n",
    "        plt.show()"
   ]
  },
  {
   "cell_type": "code",
   "execution_count": 5,
   "id": "d62ff6ae",
   "metadata": {},
   "outputs": [],
   "source": [
    "history = LossHistory()"
   ]
  },
  {
   "cell_type": "code",
   "execution_count": 6,
   "id": "6302d3be",
   "metadata": {
    "scrolled": true
   },
   "outputs": [
    {
     "name": "stdout",
     "output_type": "stream",
     "text": [
      "WARNING:tensorflow:From C:\\Users\\29459\\anaconda3\\envs\\python37\\lib\\site-packages\\keras\\backend\\tensorflow_backend.py:422: The name tf.global_variables is deprecated. Please use tf.compat.v1.global_variables instead.\n",
      "\n"
     ]
    },
    {
     "name": "stderr",
     "output_type": "stream",
     "text": [
      "WARNING:tensorflow:From C:\\Users\\29459\\anaconda3\\envs\\python37\\lib\\site-packages\\keras\\backend\\tensorflow_backend.py:422: The name tf.global_variables is deprecated. Please use tf.compat.v1.global_variables instead.\n",
      "\n"
     ]
    },
    {
     "name": "stdout",
     "output_type": "stream",
     "text": [
      "Epoch 1/1\n",
      "60000/60000 [==============================] - 194s 3ms/step - loss: 0.1341 - accuracy: 0.9589\n"
     ]
    },
    {
     "data": {
      "text/plain": [
       "<keras.callbacks.callbacks.History at 0x1d3dd6dde88>"
      ]
     },
     "execution_count": 6,
     "metadata": {},
     "output_type": "execute_result"
    }
   ],
   "source": [
    "#模型编译\n",
    "model.compile(optimizer='adam', loss='categorical_crossentropy', metrics=['accuracy'])\n",
    "\n",
    "#训练\n",
    "model.fit(X_train, y_train, batch_size=128, epochs=1,verbose=1,callbacks=[history])\n",
    "\n"
   ]
  },
  {
   "cell_type": "markdown",
   "id": "4288a80c",
   "metadata": {},
   "source": [
    "（4）利用准确率等指标评估所训练的神经网络；"
   ]
  },
  {
   "cell_type": "code",
   "execution_count": 7,
   "id": "a3e7f602",
   "metadata": {},
   "outputs": [
    {
     "data": {
      "image/png": "[encoded data removed]",
      "text/plain": [
       "<Figure size 432x288 with 1 Axes>"
      ]
     },
     "metadata": {
      "needs_background": "light"
     },
     "output_type": "display_data"
    }
   ],
   "source": [
    "history.loss_plot('batch')"
   ]
  },
  {
   "cell_type": "code",
   "execution_count": 8,
   "id": "5285f730",
   "metadata": {
    "scrolled": true
   },
   "outputs": [
    {
     "name": "stdout",
     "output_type": "stream",
     "text": [
      "10000/10000 [==============================] - 11s 1ms/step\n",
      "[0.03641953210450592, 0.9876000285148621]\n"
     ]
    }
   ],
   "source": [
    "#评估模型\n",
    "score = model.evaluate(X_test, y_test)\n",
    "print(score)"
   ]
  },
  {
   "cell_type": "code",
   "execution_count": 9,
   "id": "51b200fd",
   "metadata": {},
   "outputs": [],
   "source": [
    "y_pred=model.predict_classes(X_test)"
   ]
  },
  {
   "cell_type": "code",
   "execution_count": 10,
   "id": "d50179c9",
   "metadata": {},
   "outputs": [],
   "source": [
    "from sklearn.metrics import confusion_matrix\n",
    "# 加载相关库函数\n",
    "import numpy as np\n",
    "import pandas as pd\n",
    "import matplotlib.pyplot as plt\n",
    "import seaborn as sns\n",
    "def plot_confusion_matrix(y, y_pred, cmap=plt.cm.Blues, title='混淆矩阵'):\n",
    "    \"\"\"\n",
    "    绘制混淆矩阵\n",
    "    :param y: 真实值\n",
    "    :param y_pred: 预测值\n",
    "    :param cmap: 热力图的颜色\n",
    "    :param title: 图像标题\n",
    "    :return:\n",
    "    \"\"\"\n",
    "    cm = confusion_matrix(y, y_pred)\n",
    "    classes = list(set(y))\n",
    "    classes.sort()\n",
    "    plt.imshow(cm, cmap)\n",
    "    indices = range(len(cm))\n",
    "    plt.xticks(indices, classes)\n",
    "    plt.yticks(indices, classes)\n",
    "    # 热度表\n",
    "    plt.colorbar()\n",
    "    # 坐标轴含义\n",
    "    plt.xlabel('guess')\n",
    "    plt.ylabel('fact')\n",
    "    plt.title(title)\n",
    "    # 显示数据的值（Numbers）\n",
    "    for first_index in range(len(cm)):\n",
    "        for second_index in range(len(cm[first_index])):\n",
    "            plt.text(first_index, second_index, cm[first_index][second_index])"
   ]
  },
  {
   "cell_type": "code",
   "execution_count": 11,
   "id": "6abb724f",
   "metadata": {},
   "outputs": [
    {
     "data": {
      "image/png": "[encoded data removed]",
      "text/plain": [
       "<Figure size 1152x576 with 2 Axes>"
      ]
     },
     "metadata": {},
     "output_type": "display_data"
    }
   ],
   "source": [
    "# 输出混淆矩阵\n",
    "plt.figure(figsize=(16,8), facecolor='w')\n",
    "\n",
    "from pylab import mpl\n",
    "mpl.rcParams['font.sans-serif'] = ['FangSong']  # 指定默认字体\n",
    "mpl.rcParams['axes.unicode_minus'] = False  # 解决保存图像是负号'-'显示为方块的问题\n",
    "plot_confusion_matrix(np.argmax(y_test, axis=1),y_pred,\n",
    "                      title='测试集混淆矩阵')\n",
    "plt.show()"
   ]
  },
  {
   "cell_type": "markdown",
   "id": "0fd1ab4c",
   "metadata": {},
   "source": [
    "加分项 1，保存模型并加载模型，用自己手写的数字图片（手机的便签或微 软画图工具，保证没有阴影）测试分类效果，像素需要降低尽量保持在 28x28x1。"
   ]
  },
  {
   "cell_type": "markdown",
   "id": "35a5d84f",
   "metadata": {},
   "source": [
    "（1）保存模型并加载模型"
   ]
  },
  {
   "cell_type": "code",
   "execution_count": 12,
   "id": "adb5c8e8",
   "metadata": {},
   "outputs": [],
   "source": [
    "model.save('mnist_cnn.h5')"
   ]
  },
  {
   "cell_type": "code",
   "execution_count": 13,
   "id": "4cdfb93e",
   "metadata": {},
   "outputs": [],
   "source": [
    "import matplotlib.pyplot as plt\n",
    "\n",
    "from keras.models import load_model\n"
   ]
  },
  {
   "cell_type": "code",
   "execution_count": 14,
   "id": "75c81c3f",
   "metadata": {},
   "outputs": [],
   "source": [
    "model.load_weights('mnist_cnn.h5')"
   ]
  },
  {
   "cell_type": "code",
   "execution_count": 15,
   "id": "7470c755",
   "metadata": {},
   "outputs": [
    {
     "name": "stderr",
     "output_type": "stream",
     "text": [
      "C:\\Users\\29459\\anaconda3\\envs\\python37\\lib\\site-packages\\ipykernel_launcher.py:2: H5pyDeprecationWarning: The default file mode will change to 'r' (read-only) in h5py 3.0. To suppress this warning, pass the mode you need to h5py.File(), or set the global default h5.get_config().default_file_mode, or set the environment variable H5PY_DEFAULT_READONLY=1. Available modes are: 'r', 'r+', 'w', 'w-'/'x', 'a'. See the docs for details.\n",
      "  \n"
     ]
    }
   ],
   "source": [
    "import h5py\n",
    "file=h5py.File('mnist_cnn.h5')\n"
   ]
  },
  {
   "cell_type": "code",
   "execution_count": 16,
   "id": "7007ef2b",
   "metadata": {},
   "outputs": [],
   "source": [
    "model=keras.models.load_model(file)"
   ]
  },
  {
   "cell_type": "code",
   "execution_count": 17,
   "id": "cc541026",
   "metadata": {},
   "outputs": [
    {
     "name": "stdout",
     "output_type": "stream",
     "text": [
      "10000/10000 [==============================] - 10s 1ms/step\n",
      "[0.03641953210450592, 0.9876000285148621]\n"
     ]
    }
   ],
   "source": [
    "#评估模型\n",
    "score = model.evaluate(X_test, y_test)\n",
    "print(score)"
   ]
  },
  {
   "cell_type": "code",
   "execution_count": 18,
   "id": "2be19d46",
   "metadata": {},
   "outputs": [
    {
     "name": "stdout",
     "output_type": "stream",
     "text": [
      "Help on function load_img in module keras_preprocessing.image.utils:\n",
      "\n",
      "load_img(path, grayscale=False, color_mode='rgb', target_size=None, interpolation='nearest')\n",
      "    Loads an image into PIL format.\n",
      "    \n",
      "    # Arguments\n",
      "        path: Path to image file.\n",
      "        grayscale: DEPRECATED use `color_mode=\"grayscale\"`.\n",
      "        color_mode: The desired image format. One of \"grayscale\", \"rgb\", \"rgba\".\n",
      "            \"grayscale\" supports 8-bit images and 32-bit signed integer images.\n",
      "            Default: \"rgb\".\n",
      "        target_size: Either `None` (default to original size)\n",
      "            or tuple of ints `(img_height, img_width)`.\n",
      "        interpolation: Interpolation method used to resample the image if the\n",
      "            target size is different from that of the loaded image.\n",
      "            Supported methods are \"nearest\", \"bilinear\", and \"bicubic\".\n",
      "            If PIL version 1.1.3 or newer is installed, \"lanczos\" is also\n",
      "            supported. If PIL version 3.4.0 or newer is installed, \"box\" and\n",
      "            \"hamming\" are also supported.\n",
      "            Default: \"nearest\".\n",
      "    \n",
      "    # Returns\n",
      "        A PIL Image instance.\n",
      "    \n",
      "    # Raises\n",
      "        ImportError: if PIL is not available.\n",
      "        ValueError: if interpolation method is not supported.\n",
      "\n"
     ]
    },
    {
     "data": {
      "image/png": "[encoded data removed]",
      "text/plain": [
       "<Figure size 432x288 with 1 Axes>"
      ]
     },
     "metadata": {
      "needs_background": "light"
     },
     "output_type": "display_data"
    },
    {
     "name": "stdout",
     "output_type": "stream",
     "text": [
      "预测数字： 3\n"
     ]
    }
   ],
   "source": [
    "from keras.preprocessing.image import load_img,img_to_array\n",
    "path = './data/1.png'\n",
    "#读取图片、调整图片大小，转换成灰度 \n",
    "help(load_img)\n",
    "img = load_img(path, target_size=(28, 28),color_mode=\"grayscale\")\n",
    "#255-为了调成白底，系统灰度转换自动给处理成黑底了\n",
    "img = 255-img_to_array(img)\n",
    "#查看自己加载的图片\n",
    "plt.imshow(img , cmap=plt.cm.binary)\n",
    "plt.show()\n",
    "#进行数据预测\n",
    "img = img.astype('float32')/255\n",
    "img = img.reshape((1, 28, 28, 1))\n",
    "y_pred = model.predict(img)\n",
    "print('预测数字：',np.argmax(y_pred, axis=1)[0])"
   ]
  }
 ],
 "metadata": {
  "kernelspec": {
   "display_name": "Python 3",
   "language": "python",
   "name": "python3"
  },
  "language_info": {
   "codemirror_mode": {
    "name": "ipython",
    "version": 3
   },
   "file_extension": ".py",
   "mimetype": "text/x-python",
   "name": "python",
   "nbconvert_exporter": "python",
   "pygments_lexer": "ipython3",
   "version": "3.7.10"
  }
 },
 "nbformat": 4,
 "nbformat_minor": 5
}
