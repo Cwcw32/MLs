{
 "cells": [
  {
   "cell_type": "markdown",
   "id": "4bd76c5d",
   "metadata": {},
   "source": [
    "# 搭建卷积神经网络，对手写数字识别图像数据集进行 10 分类。\n",
    "## 算法流程：\n",
    "### （1）读取、加载、处理数据集（可选取部分数据集）； （√）\n",
    "### （2）搭建卷积神经网络； （√）\n",
    "### （3）训练所搭建的神经网络； （√）\n",
    "### （4）利用准确率等指标评估所训练的神经网络；（√）\n",
    "### 加分项 1，保存模型并加载模型，用自己手写的数字图片（手机的便签或微 软画图工具，保证没有阴影）测试分类效果，像素需要降低尽量保持在 28x28x1。 （√）\n",
    "### 加分项 2，使用 pytorch 或只使用 tensorflow 完成两个案例任意一个（tf√）"
   ]
  },
  {
   "cell_type": "markdown",
   "id": "9f98af29",
   "metadata": {},
   "source": [
    "（1）读取、加载、处理数据集（可选取部分数据集）；"
   ]
  },
  {
   "cell_type": "code",
   "execution_count": 1,
   "id": "fb5d165c",
   "metadata": {
    "scrolled": true
   },
   "outputs": [
    {
     "name": "stderr",
     "output_type": "stream",
     "text": [
      "Using TensorFlow backend.\n",
      "WARNING:root:Limited tf.compat.v2.summary API due to missing TensorBoard installation.\n"
     ]
    }
   ],
   "source": [
    "from keras.models import Sequential\n",
    "from keras.layers import Conv2D, MaxPool2D\n",
    "from keras.layers import Dense, Flatten\n",
    "import keras\n",
    "from keras.datasets import mnist\n",
    "import matplotlib.pyplot as plt\n",
    "\n",
    "# 加载数据集\n",
    "(X_train, y_train), (X_test, y_test) = mnist.load_data()\n",
    "img_x, img_y = X_train.shape[1], X_train.shape[2]\n",
    "\n",
    "# 数据预处理\n",
    "X_train = X_train.reshape(X_train.shape[0], img_x, img_y, 1)\n",
    "X_test = X_test.reshape(X_test.shape[0], img_x, img_y, 1)\n",
    "X_train = X_train.astype('float32')\n",
    "X_test = X_test.astype('float32')\n",
    "X_train /= 255\n",
    "X_test /= 255\n",
    "\n"
   ]
  },
  {
   "cell_type": "markdown",
   "id": "e2b9bf07",
   "metadata": {},
   "source": [
    "2）搭建卷积神经网络； （加分项 2，使用 pytorch 或只使用 tensorflow 完成两个案例任意一个）"
   ]
  },
  {
   "cell_type": "code",
   "execution_count": 2,
   "id": "118a845b",
   "metadata": {},
   "outputs": [
    {
     "name": "stdout",
     "output_type": "stream",
     "text": [
      "WARNING:tensorflow:From C:\\Users\\29459\\anaconda3\\envs\\python37\\lib\\site-packages\\tensorflow_core\\python\\ops\\resource_variable_ops.py:1630: calling BaseResourceVariable.__init__ (from tensorflow.python.ops.resource_variable_ops) with constraint is deprecated and will be removed in a future version.\n",
      "Instructions for updating:\n",
      "If using Keras pass *_constraint arguments to layers.\n"
     ]
    },
    {
     "name": "stderr",
     "output_type": "stream",
     "text": [
      "WARNING:tensorflow:From C:\\Users\\29459\\anaconda3\\envs\\python37\\lib\\site-packages\\tensorflow_core\\python\\ops\\resource_variable_ops.py:1630: calling BaseResourceVariable.__init__ (from tensorflow.python.ops.resource_variable_ops) with constraint is deprecated and will be removed in a future version.\n",
      "Instructions for updating:\n",
      "If using Keras pass *_constraint arguments to layers.\n"
     ]
    },
    {
     "name": "stdout",
     "output_type": "stream",
     "text": [
      "WARNING:tensorflow:From C:\\Users\\29459\\anaconda3\\envs\\python37\\lib\\site-packages\\keras\\backend\\tensorflow_backend.py:4070: The name tf.nn.max_pool is deprecated. Please use tf.nn.max_pool2d instead.\n",
      "\n"
     ]
    },
    {
     "name": "stderr",
     "output_type": "stream",
     "text": [
      "WARNING:tensorflow:From C:\\Users\\29459\\anaconda3\\envs\\python37\\lib\\site-packages\\keras\\backend\\tensorflow_backend.py:4070: The name tf.nn.max_pool is deprecated. Please use tf.nn.max_pool2d instead.\n",
      "\n"
     ]
    }
   ],
   "source": [
    "y_train = keras.utils.to_categorical(y_train, num_classes=10)\n",
    "y_test = keras.utils.to_categorical(y_test, num_classes=10)\n",
    "\n",
    "# 构建模型\n",
    "model = Sequential()\n",
    "model.add(Conv2D(32, kernel_size=(5,5),padding='same', activation='relu', input_shape=(img_x, img_y, 1)))\n",
    "model.add(MaxPool2D(pool_size=(2,2), strides=(2,2)))\n",
    "model.add(Conv2D(64, kernel_size=(5,5), padding='same',activation='relu'))\n",
    "model.add(MaxPool2D(pool_size=(2,2), strides=(2,2)))\n",
    "model.add(Flatten())\n",
    "model.add(Dense(1000, activation='relu'))\n",
    "model.add(Dense(10, activation='softmax'))\n",
    "\n",
    "\n"
   ]
  },
  {
   "cell_type": "code",
   "execution_count": 3,
   "id": "7b19ea36",
   "metadata": {},
   "outputs": [
    {
     "name": "stdout",
     "output_type": "stream",
     "text": [
      "Model: \"sequential_1\"\n",
      "_________________________________________________________________\n",
      "Layer (type)                 Output Shape              Param #   \n",
      "=================================================================\n",
      "conv2d_1 (Conv2D)            (None, 28, 28, 32)        832       \n",
      "_________________________________________________________________\n",
      "max_pooling2d_1 (MaxPooling2 (None, 14, 14, 32)        0         \n",
      "_________________________________________________________________\n",
      "conv2d_2 (Conv2D)            (None, 14, 14, 64)        51264     \n",
      "_________________________________________________________________\n",
      "max_pooling2d_2 (MaxPooling2 (None, 7, 7, 64)          0         \n",
      "_________________________________________________________________\n",
      "flatten_1 (Flatten)          (None, 3136)              0         \n",
      "_________________________________________________________________\n",
      "dense_1 (Dense)              (None, 1000)              3137000   \n",
      "_________________________________________________________________\n",
      "dense_2 (Dense)              (None, 10)                10010     \n",
      "=================================================================\n",
      "Total params: 3,199,106\n",
      "Trainable params: 3,199,106\n",
      "Non-trainable params: 0\n",
      "_________________________________________________________________\n"
     ]
    }
   ],
   "source": [
    "# 看看结构\n",
    "model.summary()"
   ]
  },
  {
   "cell_type": "markdown",
   "id": "ccc5f877",
   "metadata": {},
   "source": [
    "（3）训练所搭建的神经网络； （√）"
   ]
  },
  {
   "cell_type": "code",
   "execution_count": 4,
   "id": "57075ac3",
   "metadata": {},
   "outputs": [],
   "source": [
    "class LossHistory(keras.callbacks.Callback):\n",
    "    def on_train_begin(self, logs={}):\n",
    "        self.losses = {'batch':[], 'epoch':[]}\n",
    "        self.accuracy = {'batch':[], 'epoch':[]}\n",
    "        self.val_loss = {'batch':[], 'epoch':[]}\n",
    "        self.val_acc = {'batch':[], 'epoch':[]}\n",
    " \n",
    "    def on_batch_end(self, batch, logs={}):\n",
    "        self.losses['batch'].append(logs.get('loss'))\n",
    "        self.accuracy['batch'].append(logs.get('accuracy'))\n",
    "        self.val_loss['batch'].append(logs.get('val_loss'))\n",
    "        self.val_acc['batch'].append(logs.get('val_acc'))\n",
    " \n",
    "    def on_epoch_end(self, batch, logs={}):\n",
    "        self.losses['epoch'].append(logs.get('loss'))\n",
    "        self.accuracy['epoch'].append(logs.get('accuracy'))\n",
    "        self.val_loss['epoch'].append(logs.get('val_loss'))\n",
    "        self.val_acc['epoch'].append(logs.get('val_acc'))\n",
    " \n",
    "    def loss_plot(self, loss_type):\n",
    "        iters = range(len(self.losses[loss_type]))\n",
    "        plt.figure()\n",
    "        # acc\n",
    "        plt.plot(iters, self.accuracy[loss_type], 'r', label='train acc')\n",
    "        # loss\n",
    "        plt.plot(iters, self.losses[loss_type], 'g', label='train loss')\n",
    "        if loss_type == 'epoch':\n",
    "            # val_acc\n",
    "            plt.plot(iters, self.val_acc[loss_type], 'b', label='val acc')\n",
    "            # val_loss\n",
    "            plt.plot(iters, self.val_loss[loss_type], 'k', label='val loss')\n",
    "        plt.grid(True)\n",
    "        plt.xlabel(loss_type)\n",
    "        plt.ylabel('acc-loss')\n",
    "        plt.legend(loc=\"upper right\")\n",
    "        plt.show()"
   ]
  },
  {
   "cell_type": "code",
   "execution_count": 5,
   "id": "12d9c244",
   "metadata": {},
   "outputs": [],
   "source": [
    "history = LossHistory()"
   ]
  },
  {
   "cell_type": "code",
   "execution_count": 6,
   "id": "6302d3be",
   "metadata": {
    "scrolled": true
   },
   "outputs": [
    {
     "name": "stdout",
     "output_type": "stream",
     "text": [
      "WARNING:tensorflow:From C:\\Users\\29459\\anaconda3\\envs\\python37\\lib\\site-packages\\keras\\backend\\tensorflow_backend.py:422: The name tf.global_variables is deprecated. Please use tf.compat.v1.global_variables instead.\n",
      "\n"
     ]
    },
    {
     "name": "stderr",
     "output_type": "stream",
     "text": [
      "WARNING:tensorflow:From C:\\Users\\29459\\anaconda3\\envs\\python37\\lib\\site-packages\\keras\\backend\\tensorflow_backend.py:422: The name tf.global_variables is deprecated. Please use tf.compat.v1.global_variables instead.\n",
      "\n"
     ]
    },
    {
     "name": "stdout",
     "output_type": "stream",
     "text": [
      "Epoch 1/10\n",
      "60000/60000 [==============================] - 214s 4ms/step - loss: 0.1439 - accuracy: 0.9561\n",
      "Epoch 2/10\n",
      "60000/60000 [==============================] - 194s 3ms/step - loss: 0.0399 - accuracy: 0.9873\n",
      "Epoch 3/10\n",
      "60000/60000 [==============================] - 214s 4ms/step - loss: 0.0266 - accuracy: 0.9916\n",
      "Epoch 4/10\n",
      "60000/60000 [==============================] - 229s 4ms/step - loss: 0.0186 - accuracy: 0.9937\n",
      "Epoch 5/10\n",
      "60000/60000 [==============================] - 218s 4ms/step - loss: 0.0136 - accuracy: 0.9956\n",
      "Epoch 6/10\n",
      "60000/60000 [==============================] - 230s 4ms/step - loss: 0.0100 - accuracy: 0.9970\n",
      "Epoch 7/10\n",
      "60000/60000 [==============================] - 147s 2ms/step - loss: 0.0094 - accuracy: 0.9970\n",
      "Epoch 8/10\n",
      "60000/60000 [==============================] - 124s 2ms/step - loss: 0.0083 - accuracy: 0.9972\n",
      "Epoch 9/10\n",
      "60000/60000 [==============================] - 134s 2ms/step - loss: 0.0066 - accuracy: 0.9977\n",
      "Epoch 10/10\n",
      "60000/60000 [==============================] - 138s 2ms/step - loss: 0.0069 - accuracy: 0.9975\n"
     ]
    },
    {
     "data": {
      "text/plain": [
       "<keras.callbacks.callbacks.History at 0x249ec524688>"
      ]
     },
     "execution_count": 6,
     "metadata": {},
     "output_type": "execute_result"
    }
   ],
   "source": [
    "#模型编译\n",
    "model.compile(optimizer='adam', loss='categorical_crossentropy', metrics=['accuracy'])\n",
    "\n",
    "#训练\n",
    "model.fit(X_train, y_train, batch_size=128, epochs=10,verbose=1,callbacks=[history])\n",
    "\n"
   ]
  },
  {
   "cell_type": "markdown",
   "id": "4288a80c",
   "metadata": {},
   "source": [
    "（4）利用准确率等指标评估所训练的神经网络；"
   ]
  },
  {
   "cell_type": "code",
   "execution_count": 7,
   "id": "45f673d6",
   "metadata": {},
   "outputs": [
    {
     "data": {
      "image/png": "[encoded data removed]",
      "text/plain": [
       "<Figure size 432x288 with 1 Axes>"
      ]
     },
     "metadata": {
      "needs_background": "light"
     },
     "output_type": "display_data"
    }
   ],
   "source": [
    "history.loss_plot('batch')"
   ]
  },
  {
   "cell_type": "code",
   "execution_count": 8,
   "id": "5285f730",
   "metadata": {
    "scrolled": true
   },
   "outputs": [
    {
     "name": "stdout",
     "output_type": "stream",
     "text": [
      "10000/10000 [==============================] - 8s 775us/step\n",
      "[0.03489872604960263, 0.9911999702453613]\n"
     ]
    }
   ],
   "source": [
    "#评估模型\n",
    "score = model.evaluate(X_test, y_test)\n",
    "print(score)"
   ]
  },
  {
   "cell_type": "code",
   "execution_count": 9,
   "id": "51b200fd",
   "metadata": {},
   "outputs": [],
   "source": [
    "y_pred=model.predict_classes(X_test)"
   ]
  },
  {
   "cell_type": "code",
   "execution_count": 10,
   "id": "d50179c9",
   "metadata": {},
   "outputs": [],
   "source": [
    "from sklearn.metrics import confusion_matrix\n",
    "# 加载相关库函数\n",
    "import numpy as np\n",
    "import pandas as pd\n",
    "import matplotlib.pyplot as plt\n",
    "import seaborn as sns\n",
    "def plot_confusion_matrix(y, y_pred, cmap=plt.cm.Blues, title='混淆矩阵'):\n",
    "    \"\"\"\n",
    "    绘制混淆矩阵\n",
    "    :param y: 真实值\n",
    "    :param y_pred: 预测值\n",
    "    :param cmap: 热力图的颜色\n",
    "    :param title: 图像标题\n",
    "    :return:\n",
    "    \"\"\"\n",
    "    cm = confusion_matrix(y, y_pred)\n",
    "    classes = list(set(y))\n",
    "    classes.sort()\n",
    "    plt.imshow(cm, cmap)\n",
    "    indices = range(len(cm))\n",
    "    plt.xticks(indices, classes)\n",
    "    plt.yticks(indices, classes)\n",
    "    # 热度表\n",
    "    plt.colorbar()\n",
    "    # 坐标轴含义\n",
    "    plt.xlabel('guess')\n",
    "    plt.ylabel('fact')\n",
    "    plt.title(title)\n",
    "    # 显示数据的值（Numbers）\n",
    "    for first_index in range(len(cm)):\n",
    "        for second_index in range(len(cm[first_index])):\n",
    "            plt.text(first_index, second_index, cm[first_index][second_index])"
   ]
  },
  {
   "cell_type": "code",
   "execution_count": 11,
   "id": "6abb724f",
   "metadata": {},
   "outputs": [
    {
     "data": {
      "image/png": "[encoded data removed]",
      "text/plain": [
       "<Figure size 1152x576 with 2 Axes>"
      ]
     },
     "metadata": {},
     "output_type": "display_data"
    }
   ],
   "source": [
    "# 输出混淆矩阵\n",
    "plt.figure(figsize=(16,8), facecolor='w')\n",
    "\n",
    "from pylab import mpl\n",
    "mpl.rcParams['font.sans-serif'] = ['FangSong']  # 指定默认字体\n",
    "mpl.rcParams['axes.unicode_minus'] = False  # 解决保存图像是负号'-'显示为方块的问题\n",
    "plot_confusion_matrix(np.argmax(y_test, axis=1),y_pred,\n",
    "                      title='测试集混淆矩阵')\n",
    "plt.show()"
   ]
  },
  {
   "cell_type": "markdown",
   "id": "0fd1ab4c",
   "metadata": {},
   "source": [
    "加分项 1，保存模型并加载模型，用自己手写的数字图片（手机的便签或微 软画图工具，保证没有阴影）测试分类效果，像素需要降低尽量保持在 28x28x1。"
   ]
  },
  {
   "cell_type": "markdown",
   "id": "35a5d84f",
   "metadata": {},
   "source": [
    "（1）保存模型并加载模型"
   ]
  },
  {
   "cell_type": "code",
   "execution_count": 12,
   "id": "adb5c8e8",
   "metadata": {},
   "outputs": [],
   "source": [
    "# 保存模型\n",
    "model.save('mnist_cnn.h5')"
   ]
  },
  {
   "cell_type": "code",
   "execution_count": 13,
   "id": "4cdfb93e",
   "metadata": {},
   "outputs": [],
   "source": [
    "import matplotlib.pyplot as plt\n",
    "\n",
    "from keras.models import load_model\n"
   ]
  },
  {
   "cell_type": "code",
   "execution_count": 14,
   "id": "75c81c3f",
   "metadata": {},
   "outputs": [],
   "source": [
    "\n",
    "model.load_weights('mnist_cnn.h5')"
   ]
  },
  {
   "cell_type": "code",
   "execution_count": 15,
   "id": "7470c755",
   "metadata": {},
   "outputs": [
    {
     "name": "stderr",
     "output_type": "stream",
     "text": [
      "C:\\Users\\29459\\anaconda3\\envs\\python37\\lib\\site-packages\\ipykernel_launcher.py:2: H5pyDeprecationWarning: The default file mode will change to 'r' (read-only) in h5py 3.0. To suppress this warning, pass the mode you need to h5py.File(), or set the global default h5.get_config().default_file_mode, or set the environment variable H5PY_DEFAULT_READONLY=1. Available modes are: 'r', 'r+', 'w', 'w-'/'x', 'a'. See the docs for details.\n",
      "  \n"
     ]
    }
   ],
   "source": [
    "# 加载模型\n",
    "import h5py\n",
    "file=h5py.File('mnist_cnn.h5')\n"
   ]
  },
  {
   "cell_type": "code",
   "execution_count": 16,
   "id": "7007ef2b",
   "metadata": {},
   "outputs": [],
   "source": [
    "# 加载模型\n",
    "model=keras.models.load_model(file)"
   ]
  },
  {
   "cell_type": "code",
   "execution_count": 17,
   "id": "cc541026",
   "metadata": {},
   "outputs": [
    {
     "name": "stdout",
     "output_type": "stream",
     "text": [
      "10000/10000 [==============================] - 7s 652us/step\n",
      "[0.03489872604960263, 0.9911999702453613]\n"
     ]
    }
   ],
   "source": [
    "#评估模型\n",
    "score = model.evaluate(X_test, y_test)\n",
    "print(score)"
   ]
  },
  {
   "cell_type": "markdown",
   "id": "2b0e419a",
   "metadata": {},
   "source": [
    "(2)测试分类效果"
   ]
  },
  {
   "cell_type": "code",
   "execution_count": 18,
   "id": "5b717fa2",
   "metadata": {},
   "outputs": [
    {
     "name": "stdout",
     "output_type": "stream",
     "text": [
      "Help on function load_img in module keras_preprocessing.image.utils:\n",
      "\n",
      "load_img(path, grayscale=False, color_mode='rgb', target_size=None, interpolation='nearest')\n",
      "    Loads an image into PIL format.\n",
      "    \n",
      "    # Arguments\n",
      "        path: Path to image file.\n",
      "        grayscale: DEPRECATED use `color_mode=\"grayscale\"`.\n",
      "        color_mode: The desired image format. One of \"grayscale\", \"rgb\", \"rgba\".\n",
      "            \"grayscale\" supports 8-bit images and 32-bit signed integer images.\n",
      "            Default: \"rgb\".\n",
      "        target_size: Either `None` (default to original size)\n",
      "            or tuple of ints `(img_height, img_width)`.\n",
      "        interpolation: Interpolation method used to resample the image if the\n",
      "            target size is different from that of the loaded image.\n",
      "            Supported methods are \"nearest\", \"bilinear\", and \"bicubic\".\n",
      "            If PIL version 1.1.3 or newer is installed, \"lanczos\" is also\n",
      "            supported. If PIL version 3.4.0 or newer is installed, \"box\" and\n",
      "            \"hamming\" are also supported.\n",
      "            Default: \"nearest\".\n",
      "    \n",
      "    # Returns\n",
      "        A PIL Image instance.\n",
      "    \n",
      "    # Raises\n",
      "        ImportError: if PIL is not available.\n",
      "        ValueError: if interpolation method is not supported.\n",
      "\n"
     ]
    },
    {
     "data": {
      "image/png": "[encoded data removed]",
      "text/plain": [
       "<Figure size 432x288 with 1 Axes>"
      ]
     },
     "metadata": {
      "needs_background": "light"
     },
     "output_type": "display_data"
    },
    {
     "name": "stdout",
     "output_type": "stream",
     "text": [
      "预测数字： 3\n"
     ]
    }
   ],
   "source": [
    "from keras.preprocessing.image import load_img,img_to_array\n",
    "path = './data/1.png'\n",
    "# 图片处理\n",
    "help(load_img)\n",
    "img = load_img(path, target_size=(28, 28),color_mode=\"grayscale\")\n",
    "# 改成黑底\n",
    "img = 255-img_to_array(img)\n",
    "# 查看自己加载的图片\n",
    "plt.imshow(img , cmap=plt.cm.binary)\n",
    "plt.show()\n",
    "# 进行数据预测\n",
    "img = img.astype('float32')/255\n",
    "img = img.reshape((1, 28, 28, 1))\n",
    "y_pred = model.predict(img)\n",
    "print('预测数字：',np.argmax(y_pred, axis=1)[0])"
   ]
  },
  {
   "cell_type": "markdown",
   "id": "4f2a8747",
   "metadata": {},
   "source": [
    "（3）测试pytorch"
   ]
  },
  {
   "cell_type": "code",
   "execution_count": 22,
   "id": "87b832f2",
   "metadata": {},
   "outputs": [],
   "source": [
    "import torch\n",
    "import torchvision\n",
    "from torch.utils.data import DataLoader\n",
    "import torch.nn as nn\n",
    "import torch.nn.functional as F\n",
    "import torch.optim as optim"
   ]
  },
  {
   "cell_type": "code",
   "execution_count": 36,
   "id": "186ae9b1",
   "metadata": {},
   "outputs": [],
   "source": [
    "from torch import nn\n",
    "\n",
    "class SimpleCNN(nn.Module):\n",
    "    def __init__(self):\n",
    "        super(SimpleCNN, self).__init__()\n",
    "        self.conv1 = nn.Sequential( \n",
    "            nn.Conv2d(in_channels=1, out_channels=32, kernel_size=5,\n",
    "                      stride=1, padding=2),  \n",
    "            \n",
    "            nn.ReLU(),\n",
    "            nn.MaxPool2d(kernel_size=2)  \n",
    "        )\n",
    "\n",
    "        self.conv2 = nn.Sequential(  \n",
    "            nn.Conv2d(32, 64, 5, 1, 2),  \n",
    "            nn.ReLU(),\n",
    "            nn.MaxPool2d(2)  \n",
    "        )\n",
    "        self.fc = nn.Sequential(\n",
    "                                nn.Flatten(),\n",
    "                                nn.Linear(49*64,1000) ,\n",
    "                                nn.ReLU(inplace=True) ,\n",
    "                                nn.Linear(1000,10) ,\n",
    "                                nn.Softmax(dim = 1) )\n",
    "    def forward( self , x):\n",
    "        x = self.conv1(x)\n",
    "        x = self.conv2(x)\n",
    "        x = x.reshape(x.size(0) , -1)\n",
    "        fc_out = self.fc(x)\n",
    "        return fc_out"
   ]
  },
  {
   "cell_type": "code",
   "execution_count": 37,
   "id": "755c1db9",
   "metadata": {},
   "outputs": [
    {
     "name": "stdout",
     "output_type": "stream",
     "text": [
      "SimpleCNN(\n",
      "  (conv1): Sequential(\n",
      "    (0): Conv2d(1, 32, kernel_size=(5, 5), stride=(1, 1), padding=(2, 2))\n",
      "    (1): ReLU()\n",
      "    (2): MaxPool2d(kernel_size=2, stride=2, padding=0, dilation=1, ceil_mode=False)\n",
      "  )\n",
      "  (conv2): Sequential(\n",
      "    (0): Conv2d(32, 64, kernel_size=(5, 5), stride=(1, 1), padding=(2, 2))\n",
      "    (1): ReLU()\n",
      "    (2): MaxPool2d(kernel_size=2, stride=2, padding=0, dilation=1, ceil_mode=False)\n",
      "  )\n",
      "  (fc): Sequential(\n",
      "    (0): Flatten(start_dim=1, end_dim=-1)\n",
      "    (1): Linear(in_features=3136, out_features=1000, bias=True)\n",
      "    (2): ReLU(inplace=True)\n",
      "    (3): Linear(in_features=1000, out_features=10, bias=True)\n",
      "    (4): Softmax(dim=1)\n",
      "  )\n",
      ")\n"
     ]
    }
   ],
   "source": [
    "model=SimpleCNN()\n",
    "print(model)"
   ]
  },
  {
   "cell_type": "code",
   "execution_count": 39,
   "id": "14fc56ad",
   "metadata": {},
   "outputs": [
    {
     "name": "stdout",
     "output_type": "stream",
     "text": [
      "CUDA is enable!\n",
      "****************************************\n",
      "Finish  1  Loss: 2.300718, Acc: 0.255667\n",
      "****************************************\n",
      "Finish  2  Loss: 2.295031, Acc: 0.203667\n",
      "****************************************\n",
      "Finish  3  Loss: 2.268874, Acc: 0.131700\n",
      "****************************************\n",
      "Finish  4  Loss: 2.060441, Acc: 0.507550\n",
      "****************************************\n",
      "Finish  5  Loss: 1.798793, Acc: 0.705333\n",
      "****************************************\n",
      "Finish  6  Loss: 1.689914, Acc: 0.803950\n",
      "****************************************\n",
      "Finish  7  Loss: 1.659059, Acc: 0.820250\n",
      "****************************************\n",
      "Finish  8  Loss: 1.645294, Acc: 0.827950\n",
      "****************************************\n",
      "Finish  9  Loss: 1.636786, Acc: 0.833817\n",
      "****************************************\n",
      "Finish  10  Loss: 1.630584, Acc: 0.838617\n",
      "****************************************\n",
      "Finish  11  Loss: 1.626034, Acc: 0.842233\n",
      "****************************************\n",
      "Finish  12  Loss: 1.622427, Acc: 0.844650\n",
      "****************************************\n",
      "Finish  13  Loss: 1.619163, Acc: 0.847267\n",
      "****************************************\n",
      "Finish  14  Loss: 1.616149, Acc: 0.849933\n",
      "****************************************\n",
      "Finish  15  Loss: 1.613377, Acc: 0.852833\n",
      "****************************************\n",
      "Finish  16  Loss: 1.610879, Acc: 0.854617\n",
      "****************************************\n",
      "Finish  17  Loss: 1.608755, Acc: 0.856417\n",
      "****************************************\n",
      "Finish  18  Loss: 1.606211, Acc: 0.859133\n",
      "****************************************\n",
      "Finish  19  Loss: 1.604316, Acc: 0.860650\n",
      "****************************************\n",
      "Finish  20  Loss: 1.602196, Acc: 0.862500\n",
      "****************************************\n",
      "Finish  21  Loss: 1.600425, Acc: 0.864383\n",
      "****************************************\n",
      "Finish  22  Loss: 1.598564, Acc: 0.865967\n",
      "****************************************\n",
      "Finish  23  Loss: 1.596798, Acc: 0.867350\n",
      "****************************************\n",
      "Finish  24  Loss: 1.595185, Acc: 0.868600\n",
      "****************************************\n",
      "Finish  25  Loss: 1.547342, Acc: 0.923250\n",
      "****************************************\n",
      "Finish  26  Loss: 1.524786, Acc: 0.944500\n",
      "****************************************\n",
      "Finish  27  Loss: 1.519331, Acc: 0.949300\n",
      "****************************************\n",
      "Finish  28  Loss: 1.515271, Acc: 0.952467\n",
      "****************************************\n",
      "Finish  29  Loss: 1.512121, Acc: 0.955933\n",
      "****************************************\n",
      "Finish  30  Loss: 1.509348, Acc: 0.958117\n",
      "****************************************\n",
      "Finish  31  Loss: 1.506813, Acc: 0.960067\n",
      "****************************************\n",
      "Finish  32  Loss: 1.505206, Acc: 0.961800\n",
      "****************************************\n",
      "Finish  33  Loss: 1.503236, Acc: 0.963600\n",
      "****************************************\n",
      "Finish  34  Loss: 1.501291, Acc: 0.965083\n",
      "****************************************\n",
      "Finish  35  Loss: 1.499977, Acc: 0.965917\n",
      "****************************************\n",
      "Finish  36  Loss: 1.498598, Acc: 0.967767\n",
      "****************************************\n",
      "Finish  37  Loss: 1.497415, Acc: 0.968750\n",
      "****************************************\n",
      "Finish  38  Loss: 1.496542, Acc: 0.968983\n",
      "****************************************\n",
      "Finish  39  Loss: 1.495109, Acc: 0.970683\n",
      "****************************************\n",
      "Finish  40  Loss: 1.494346, Acc: 0.971233\n",
      "****************************************\n",
      "Finish  41  Loss: 1.493392, Acc: 0.972317\n",
      "****************************************\n",
      "Finish  42  Loss: 1.492594, Acc: 0.973050\n",
      "****************************************\n",
      "Finish  43  Loss: 1.491713, Acc: 0.973650\n",
      "****************************************\n",
      "Finish  44  Loss: 1.491105, Acc: 0.974300\n",
      "****************************************\n",
      "Finish  45  Loss: 1.490258, Acc: 0.974700\n",
      "****************************************\n",
      "Finish  46  Loss: 1.489874, Acc: 0.975350\n",
      "****************************************\n",
      "Finish  47  Loss: 1.489079, Acc: 0.976067\n",
      "****************************************\n",
      "Finish  48  Loss: 1.488448, Acc: 0.976667\n",
      "****************************************\n",
      "Finish  49  Loss: 1.487811, Acc: 0.977183\n",
      "****************************************\n",
      "Finish  50  Loss: 1.487382, Acc: 0.977450\n",
      "****************************************\n",
      "Finish  51  Loss: 1.486829, Acc: 0.977850\n",
      "****************************************\n",
      "Finish  52  Loss: 1.486454, Acc: 0.978117\n",
      "****************************************\n",
      "Finish  53  Loss: 1.485970, Acc: 0.978483\n",
      "****************************************\n",
      "Finish  54  Loss: 1.485358, Acc: 0.979350\n",
      "****************************************\n",
      "Finish  55  Loss: 1.484937, Acc: 0.979617\n",
      "****************************************\n",
      "Finish  56  Loss: 1.484485, Acc: 0.979817\n",
      "****************************************\n",
      "Finish  57  Loss: 1.484053, Acc: 0.980267\n",
      "****************************************\n",
      "Finish  58  Loss: 1.483663, Acc: 0.980800\n",
      "****************************************\n",
      "Finish  59  Loss: 1.483308, Acc: 0.980867\n",
      "****************************************\n",
      "Finish  60  Loss: 1.483027, Acc: 0.981450\n",
      "****************************************\n",
      "Finish  61  Loss: 1.482640, Acc: 0.981817\n",
      "****************************************\n",
      "Finish  62  Loss: 1.482219, Acc: 0.982217\n",
      "****************************************\n",
      "Finish  63  Loss: 1.482064, Acc: 0.982133\n",
      "****************************************\n",
      "Finish  64  Loss: 1.481620, Acc: 0.982500\n",
      "****************************************\n",
      "Finish  65  Loss: 1.481336, Acc: 0.982900\n",
      "****************************************\n",
      "Finish  66  Loss: 1.481016, Acc: 0.983183\n",
      "****************************************\n",
      "Finish  67  Loss: 1.480809, Acc: 0.983433\n",
      "****************************************\n",
      "Finish  68  Loss: 1.480551, Acc: 0.983317\n",
      "****************************************\n",
      "Finish  69  Loss: 1.480250, Acc: 0.983883\n",
      "****************************************\n",
      "Finish  70  Loss: 1.479952, Acc: 0.984200\n",
      "****************************************\n",
      "Finish  71  Loss: 1.479649, Acc: 0.984500\n",
      "****************************************\n",
      "Finish  72  Loss: 1.479526, Acc: 0.984433\n",
      "****************************************\n",
      "Finish  73  Loss: 1.479289, Acc: 0.984600\n",
      "****************************************\n",
      "Finish  74  Loss: 1.478940, Acc: 0.984950\n",
      "****************************************\n",
      "Finish  75  Loss: 1.478776, Acc: 0.985117\n",
      "****************************************\n",
      "Finish  76  Loss: 1.478453, Acc: 0.985467\n",
      "****************************************\n",
      "Finish  77  Loss: 1.478331, Acc: 0.985467\n",
      "****************************************\n",
      "Finish  78  Loss: 1.478054, Acc: 0.985883\n",
      "****************************************\n",
      "Finish  79  Loss: 1.477940, Acc: 0.986133\n",
      "****************************************\n",
      "Finish  80  Loss: 1.477651, Acc: 0.986167\n",
      "****************************************\n",
      "Finish  81  Loss: 1.477546, Acc: 0.986250\n",
      "****************************************\n",
      "Finish  82  Loss: 1.477298, Acc: 0.986383\n",
      "****************************************\n",
      "Finish  83  Loss: 1.477128, Acc: 0.986600\n",
      "****************************************\n",
      "Finish  84  Loss: 1.476992, Acc: 0.986367\n",
      "****************************************\n",
      "Finish  85  Loss: 1.476711, Acc: 0.986950\n",
      "****************************************\n",
      "Finish  86  Loss: 1.476683, Acc: 0.987067\n",
      "****************************************\n",
      "Finish  87  Loss: 1.476486, Acc: 0.986933\n",
      "****************************************\n",
      "Finish  88  Loss: 1.476338, Acc: 0.987400\n",
      "****************************************\n",
      "Finish  89  Loss: 1.476011, Acc: 0.987567\n",
      "****************************************\n",
      "Finish  90  Loss: 1.475891, Acc: 0.987817\n",
      "****************************************\n",
      "Finish  91  Loss: 1.475778, Acc: 0.988000\n",
      "****************************************\n",
      "Finish  92  Loss: 1.475634, Acc: 0.987867\n",
      "****************************************\n",
      "Finish  93  Loss: 1.475356, Acc: 0.988333\n",
      "****************************************\n",
      "Finish  94  Loss: 1.475290, Acc: 0.988267\n",
      "****************************************\n",
      "Finish  95  Loss: 1.475084, Acc: 0.988133\n",
      "****************************************\n",
      "Finish  96  Loss: 1.474900, Acc: 0.988717\n",
      "****************************************\n",
      "Finish  97  Loss: 1.474834, Acc: 0.988600\n",
      "****************************************\n",
      "Finish  98  Loss: 1.474807, Acc: 0.988683\n",
      "****************************************\n",
      "Finish  99  Loss: 1.474688, Acc: 0.988617\n",
      "****************************************\n"
     ]
    },
    {
     "name": "stdout",
     "output_type": "stream",
     "text": [
      "Finish  100  Loss: 1.474457, Acc: 0.988750\n"
     ]
    }
   ],
   "source": [
    "import torch\n",
    "from torch import nn , optim\n",
    "from torchvision import datasets\n",
    "from torchvision import transforms\n",
    "from torch.autograd import Variable\n",
    "from torch.utils.data import DataLoader\n",
    "\n",
    "\n",
    "# 定义超参数\n",
    "learning_rate = 1e-2      # 学习率\n",
    "batch_size    = 128       # 批的大小\n",
    "epoches_num   = 100        # 遍历训练集的次数\n",
    "\n",
    "\n",
    "# 下载训练集 MNIST 手写数字训练集\n",
    "train_dataset = datasets.MNIST( root='./data/', train=True, transform=transforms.ToTensor(), download=True )\n",
    "train_loader  = DataLoader( train_dataset, batch_size=batch_size, shuffle=True )\n",
    "\n",
    "\n",
    "# 定义model 、loss 、optimizer\n",
    "model = SimpleCNN()\n",
    "criterion = nn.CrossEntropyLoss()\n",
    "optimizer = optim.SGD( model.parameters(), lr=learning_rate )\n",
    "\n",
    "\n",
    "if torch.cuda.is_available():\n",
    "    print(\"CUDA is enable!\")\n",
    "    model = model.cuda()\n",
    "    model.train()\n",
    "\n",
    "\n",
    "# 开始训练\n",
    "for epoch in range(epoches_num):\n",
    "    print('*' * 40)\n",
    "    running_loss = 0.0\n",
    "    running_acc  = 0.0\n",
    "\n",
    "    # 训练\n",
    "    for i, data in enumerate(train_loader, 1 ):\n",
    "        img, label = data\n",
    "\t\t\n",
    "\t\t#使用GPU训练\n",
    "        if torch.cuda.is_available():\n",
    "            img = Variable(img).cuda()\n",
    "            label = Variable(label).cuda()\n",
    "        else:\n",
    "            img = Variable(img)\n",
    "            label = Variable(label)\n",
    "\n",
    "        # 前向传播\n",
    "        out = model(img)\n",
    "        loss = criterion(out, label)\n",
    "        running_loss += loss.item() * label.size(0)\n",
    "        _ , pred = torch.max(out, 1)\n",
    "        num_correct = (pred == label).sum()\n",
    "        accuracy = (pred == label).float().mean()\n",
    "        running_acc += num_correct.item()\n",
    "\n",
    "        # 反向传播\n",
    "        optimizer.zero_grad()\n",
    "        loss.backward()\n",
    "        optimizer.step()\n",
    "\n",
    "    print('Finish  {}  Loss: {:.6f}, Acc: {:.6f}'.format( epoch+1 , running_loss / (len(train_dataset)), running_acc / (len(train_dataset))))\n",
    "\n",
    "\n"
   ]
  },
  {
   "cell_type": "code",
   "execution_count": 40,
   "id": "299d4443",
   "metadata": {},
   "outputs": [],
   "source": [
    "# 保存模型\n",
    "torch.save(model, 'cnn.pt')"
   ]
  },
  {
   "cell_type": "code",
   "execution_count": 41,
   "id": "f28d2e1b",
   "metadata": {},
   "outputs": [
    {
     "name": "stdout",
     "output_type": "stream",
     "text": [
      "ERROR! Session/line number was not unique in database. History logging moved to new session 371\n",
      "Test Loss: 0.018713   ,   Acc: 0.012800\n",
      "Test Loss: 0.037535   ,   Acc: 0.025500\n",
      "Test Loss: 0.056457   ,   Acc: 0.038100\n",
      "Test Loss: 0.075357   ,   Acc: 0.050700\n",
      "Test Loss: 0.094336   ,   Acc: 0.063200\n",
      "Test Loss: 0.113311   ,   Acc: 0.075800\n",
      "Test Loss: 0.132073   ,   Acc: 0.088600\n",
      "Test Loss: 0.151112   ,   Acc: 0.101100\n",
      "Test Loss: 0.169948   ,   Acc: 0.113800\n",
      "Test Loss: 0.189210   ,   Acc: 0.126000\n",
      "Test Loss: 0.208302   ,   Acc: 0.138400\n",
      "Test Loss: 0.227314   ,   Acc: 0.150900\n",
      "Test Loss: 0.246164   ,   Acc: 0.163600\n",
      "Test Loss: 0.265302   ,   Acc: 0.175900\n",
      "Test Loss: 0.284277   ,   Acc: 0.188500\n",
      "Test Loss: 0.303241   ,   Acc: 0.201000\n",
      "Test Loss: 0.322328   ,   Acc: 0.213400\n",
      "Test Loss: 0.341385   ,   Acc: 0.225900\n",
      "Test Loss: 0.360448   ,   Acc: 0.238300\n",
      "Test Loss: 0.379469   ,   Acc: 0.250800\n",
      "Test Loss: 0.398454   ,   Acc: 0.263300\n",
      "Test Loss: 0.417259   ,   Acc: 0.276000\n",
      "Test Loss: 0.436289   ,   Acc: 0.288500\n",
      "Test Loss: 0.455340   ,   Acc: 0.301100\n",
      "Test Loss: 0.474263   ,   Acc: 0.313700\n",
      "Test Loss: 0.493013   ,   Acc: 0.326500\n",
      "Test Loss: 0.511945   ,   Acc: 0.339100\n",
      "Test Loss: 0.531132   ,   Acc: 0.351400\n",
      "Test Loss: 0.549984   ,   Acc: 0.364100\n",
      "Test Loss: 0.569105   ,   Acc: 0.376500\n",
      "Test Loss: 0.588198   ,   Acc: 0.388900\n",
      "Test Loss: 0.607325   ,   Acc: 0.401300\n",
      "Test Loss: 0.626360   ,   Acc: 0.413700\n",
      "Test Loss: 0.645479   ,   Acc: 0.426100\n",
      "Test Loss: 0.664255   ,   Acc: 0.438900\n",
      "Test Loss: 0.683431   ,   Acc: 0.451200\n",
      "Test Loss: 0.702264   ,   Acc: 0.463900\n",
      "Test Loss: 0.721296   ,   Acc: 0.476500\n",
      "Test Loss: 0.740392   ,   Acc: 0.488900\n",
      "Test Loss: 0.759104   ,   Acc: 0.501700\n",
      "Test Loss: 0.777861   ,   Acc: 0.514500\n",
      "Test Loss: 0.796577   ,   Acc: 0.527300\n",
      "Test Loss: 0.815307   ,   Acc: 0.540100\n",
      "Test Loss: 0.834107   ,   Acc: 0.552800\n",
      "Test Loss: 0.853044   ,   Acc: 0.565400\n",
      "Test Loss: 0.871954   ,   Acc: 0.578000\n",
      "Test Loss: 0.891113   ,   Acc: 0.590400\n",
      "Test Loss: 0.910179   ,   Acc: 0.602900\n",
      "Test Loss: 0.929012   ,   Acc: 0.615600\n",
      "Test Loss: 0.947716   ,   Acc: 0.628400\n",
      "Test Loss: 0.966528   ,   Acc: 0.641100\n",
      "Test Loss: 0.985758   ,   Acc: 0.653400\n",
      "Test Loss: 1.004582   ,   Acc: 0.666000\n",
      "Test Loss: 1.023292   ,   Acc: 0.678800\n",
      "Test Loss: 1.041996   ,   Acc: 0.691600\n",
      "Test Loss: 1.060701   ,   Acc: 0.704400\n",
      "Test Loss: 1.079415   ,   Acc: 0.717200\n",
      "Test Loss: 1.098118   ,   Acc: 0.730000\n",
      "Test Loss: 1.116898   ,   Acc: 0.742800\n",
      "Test Loss: 1.135604   ,   Acc: 0.755600\n",
      "Test Loss: 1.154307   ,   Acc: 0.768400\n",
      "Test Loss: 1.173186   ,   Acc: 0.781100\n",
      "Test Loss: 1.191977   ,   Acc: 0.793800\n",
      "Test Loss: 1.210783   ,   Acc: 0.806500\n",
      "Test Loss: 1.229553   ,   Acc: 0.819300\n",
      "Test Loss: 1.248414   ,   Acc: 0.832000\n",
      "Test Loss: 1.267174   ,   Acc: 0.844800\n",
      "Test Loss: 1.285880   ,   Acc: 0.857600\n",
      "Test Loss: 1.304582   ,   Acc: 0.870400\n",
      "Test Loss: 1.323285   ,   Acc: 0.883200\n",
      "Test Loss: 1.342324   ,   Acc: 0.895600\n",
      "Test Loss: 1.361034   ,   Acc: 0.908400\n",
      "Test Loss: 1.379834   ,   Acc: 0.921100\n",
      "Test Loss: 1.398538   ,   Acc: 0.933900\n",
      "Test Loss: 1.417353   ,   Acc: 0.946600\n",
      "Test Loss: 1.436592   ,   Acc: 0.958800\n",
      "Test Loss: 1.455770   ,   Acc: 0.971100\n",
      "Test Loss: 1.474666   ,   Acc: 0.983800\n",
      "Test Loss: 1.477004   ,   Acc: 0.985400\n"
     ]
    }
   ],
   "source": [
    "# 加载 Train 模型\n",
    "model = torch.load('cnn.pt')\n",
    "criterion = nn.CrossEntropyLoss()\n",
    "model.eval()\n",
    "eval_acc  = 0\n",
    "eval_loss = 0\n",
    "test_dataset = datasets.MNIST(root='./data/',\n",
    "                              train=False,\n",
    "                              transform=transforms.ToTensor())\n",
    "test_loader = torch.utils.data.DataLoader(dataset=test_dataset,\n",
    "                                          batch_size=batch_size,\n",
    "                                          shuffle=False)\n",
    "# 测试\n",
    "for data in test_loader:\n",
    "    img, label = data\n",
    "    if torch.cuda.is_available():\n",
    "        img   = Variable(img  ).cuda()\n",
    "        label = Variable(label).cuda()\n",
    "    else:\n",
    "        img   = Variable(img  )\n",
    "        label = Variable(label)\n",
    "\n",
    "    out  = model(img)\n",
    "    loss = criterion(out, label)\n",
    "    eval_loss += loss.item() * label.size(0)\n",
    "\n",
    "    _ , pred = torch.max(out,1)\n",
    "    num_correct = (pred==label).sum()\n",
    "    eval_acc += num_correct.item()\n",
    "    print('Test Loss: {:.6f}   ,   Acc: {:.6f}'.format( eval_loss/(len(test_dataset)), eval_acc/(len(test_dataset)) ))\n",
    "    "
   ]
  },
  {
   "cell_type": "code",
   "execution_count": null,
   "id": "8fe3747e",
   "metadata": {},
   "outputs": [],
   "source": []
  }
 ],
 "metadata": {
  "kernelspec": {
   "display_name": "Python 3",
   "language": "python",
   "name": "python3"
  },
  "language_info": {
   "codemirror_mode": {
    "name": "ipython",
    "version": 3
   },
   "file_extension": ".py",
   "mimetype": "text/x-python",
   "name": "python",
   "nbconvert_exporter": "python",
   "pygments_lexer": "ipython3",
   "version": "3.7.10"
  }
 },
 "nbformat": 4,
 "nbformat_minor": 5
}
