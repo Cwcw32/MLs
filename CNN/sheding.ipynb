{
 "cells": [
  {
   "cell_type": "markdown",
   "metadata": {},
   "source": [
    "# 使用 cifar-10 数据集完成分类任务，可以 10 分类也可以 2 分类，自己把握\n"
   ]
  },
  {
   "cell_type": "markdown",
   "metadata": {},
   "source": [
    "### 加载库函数"
   ]
  },
  {
   "cell_type": "code",
   "execution_count": 1,
   "metadata": {},
   "outputs": [
    {
     "name": "stderr",
     "output_type": "stream",
     "text": [
      "WARNING:root:Limited tf.compat.v2.summary API due to missing TensorBoard installation.\n",
      "Using TensorFlow backend.\n"
     ]
    }
   ],
   "source": [
    "import tensorflow as tf\n",
    "import keras\n",
    "from keras.preprocessing.image import ImageDataGenerator\n",
    "from keras.datasets import cifar10\n",
    "import numpy as np\n",
    "import pandas as pd\n",
    "import matplotlib.pyplot as plt\n",
    "import seaborn as sns"
   ]
  },
  {
   "cell_type": "markdown",
   "metadata": {},
   "source": [
    "### 下载数据集"
   ]
  },
  {
   "cell_type": "code",
   "execution_count": 2,
   "metadata": {},
   "outputs": [],
   "source": [
    "(X_train, y_train), (X_test, y_test) = cifar10.load_data()"
   ]
  },
  {
   "cell_type": "code",
   "execution_count": 3,
   "metadata": {},
   "outputs": [
    {
     "name": "stdout",
     "output_type": "stream",
     "text": [
      "X train shape:  (50000, 32, 32, 3)\n",
      "y train shape:  (50000, 1)\n",
      "X test shape:  (10000, 32, 32, 3)\n",
      "y test shape:  (10000, 1)\n"
     ]
    }
   ],
   "source": [
    "print('X train shape: ' , X_train.shape)\n",
    "print('y train shape: ' , y_train.shape)\n",
    "print('X test shape: ' , X_test.shape)\n",
    "print('y test shape: ' , y_test.shape)"
   ]
  },
  {
   "cell_type": "markdown",
   "metadata": {},
   "source": [
    "### 标准化"
   ]
  },
  {
   "cell_type": "code",
   "execution_count": 4,
   "metadata": {},
   "outputs": [],
   "source": [
    "X_train = X_train/255\n",
    "X_test = X_test/255"
   ]
  },
  {
   "cell_type": "markdown",
   "metadata": {},
   "source": [
    "### 转换为1维数据"
   ]
  },
  {
   "cell_type": "code",
   "execution_count": 5,
   "metadata": {},
   "outputs": [],
   "source": [
    "y_train = y_train.reshape(-1,)\n",
    "y_test = y_test.reshape(-1,)"
   ]
  },
  {
   "cell_type": "markdown",
   "metadata": {},
   "source": [
    "### 设定标签"
   ]
  },
  {
   "cell_type": "code",
   "execution_count": 6,
   "metadata": {},
   "outputs": [],
   "source": [
    "classes = ['airplane', 'automobile', 'bird', 'cat', 'deer', 'dog', 'frog', 'horse', 'ship', 'truck']"
   ]
  },
  {
   "cell_type": "code",
   "execution_count": 7,
   "metadata": {},
   "outputs": [
    {
     "data": {
      "image/png": "[encoded data removed]",
      "text/plain": [
       "<Figure size 144x144 with 1 Axes>"
      ]
     },
     "metadata": {
      "needs_background": "light"
     },
     "output_type": "display_data"
    }
   ],
   "source": [
    "def show_img(X, y, index):\n",
    "    plt.figure(figsize=(2,2))\n",
    "    plt.imshow(X[index])\n",
    "    plt.xlabel(classes[y[index]])\n",
    "    plt.show()\n",
    "\n",
    "show_img(X_train, y_train, 10)"
   ]
  },
  {
   "cell_type": "markdown",
   "metadata": {},
   "source": [
    "### 建立模型"
   ]
  },
  {
   "cell_type": "code",
   "execution_count": 8,
   "metadata": {},
   "outputs": [],
   "source": [
    "# 保存历史\n",
    "class LossHistory(keras.callbacks.Callback):\n",
    "    def on_train_begin(self, logs={}):\n",
    "        self.losses = {'batch':[], 'epoch':[]}\n",
    "        self.accuracy = {'batch':[], 'epoch':[]}\n",
    "        self.val_loss = {'batch':[], 'epoch':[]}\n",
    "        self.val_acc = {'batch':[], 'epoch':[]}\n",
    " \n",
    "    def on_batch_end(self, batch, logs={}):\n",
    "        self.losses['batch'].append(logs.get('loss'))\n",
    "        self.accuracy['batch'].append(logs.get('accuracy'))\n",
    "        self.val_loss['batch'].append(logs.get('val_loss'))\n",
    "        self.val_acc['batch'].append(logs.get('val_acc'))\n",
    " \n",
    "    def on_epoch_end(self, batch, logs={}):\n",
    "        self.losses['epoch'].append(logs.get('loss'))\n",
    "        self.accuracy['epoch'].append(logs.get('accuracy'))\n",
    "        self.val_loss['epoch'].append(logs.get('val_loss'))\n",
    "        self.val_acc['epoch'].append(logs.get('val_acc'))\n",
    " \n",
    "    def loss_plot(self, loss_type):\n",
    "        iters = range(len(self.losses[loss_type]))\n",
    "        plt.figure()\n",
    "        # acc\n",
    "        plt.plot(iters, self.accuracy[loss_type], 'r', label='train acc')\n",
    "        # loss\n",
    "        plt.plot(iters, self.losses[loss_type], 'g', label='train loss')\n",
    "        if loss_type == 'epoch':\n",
    "            # val_acc\n",
    "            plt.plot(iters, self.val_acc[loss_type], 'b', label='val acc')\n",
    "            # val_loss\n",
    "            plt.plot(iters, self.val_loss[loss_type], 'k', label='val loss')\n",
    "        plt.grid(True)\n",
    "        plt.xlabel(loss_type)\n",
    "        plt.ylabel('acc-loss')\n",
    "        plt.legend(loc=\"upper right\")\n",
    "        plt.show()"
   ]
  },
  {
   "cell_type": "code",
   "execution_count": 9,
   "metadata": {},
   "outputs": [],
   "source": [
    "history = LossHistory()"
   ]
  },
  {
   "cell_type": "code",
   "execution_count": 10,
   "metadata": {},
   "outputs": [],
   "source": [
    "cnn = tf.keras.models.Sequential()"
   ]
  },
  {
   "cell_type": "code",
   "execution_count": 11,
   "metadata": {},
   "outputs": [
    {
     "name": "stdout",
     "output_type": "stream",
     "text": [
      "WARNING:tensorflow:From C:\\Users\\29459\\anaconda3\\envs\\python37\\lib\\site-packages\\tensorflow_core\\python\\ops\\resource_variable_ops.py:1630: calling BaseResourceVariable.__init__ (from tensorflow.python.ops.resource_variable_ops) with constraint is deprecated and will be removed in a future version.\n",
      "Instructions for updating:\n",
      "If using Keras pass *_constraint arguments to layers.\n"
     ]
    },
    {
     "name": "stderr",
     "output_type": "stream",
     "text": [
      "WARNING:tensorflow:From C:\\Users\\29459\\anaconda3\\envs\\python37\\lib\\site-packages\\tensorflow_core\\python\\ops\\resource_variable_ops.py:1630: calling BaseResourceVariable.__init__ (from tensorflow.python.ops.resource_variable_ops) with constraint is deprecated and will be removed in a future version.\n",
      "Instructions for updating:\n",
      "If using Keras pass *_constraint arguments to layers.\n"
     ]
    }
   ],
   "source": [
    "#第一个卷积层\n",
    "cnn.add(tf.keras.layers.Conv2D(filters=32, kernel_size=3, activation='relu', input_shape=[32,32,3]))\n",
    "cnn.add(tf.keras.layers.MaxPool2D(pool_size=2, strides=2))\n",
    "\n",
    "#第二个\n",
    "cnn.add(tf.keras.layers.Conv2D(filters=32, kernel_size=3, activation='relu'))\n",
    "cnn.add(tf.keras.layers.MaxPool2D(pool_size=2, strides=2))\n",
    "\n",
    "#平滑\n",
    "cnn.add(tf.keras.layers.Flatten())\n",
    "\n",
    "#全连接\n",
    "cnn.add(tf.keras.layers.Dense(units=64, activation='relu'))\n",
    "\n",
    "#输出\n",
    "cnn.add(tf.keras.layers.Dense(units=10, activation='softmax'))"
   ]
  },
  {
   "cell_type": "code",
   "execution_count": 12,
   "metadata": {},
   "outputs": [],
   "source": [
    "# 模型编译\n",
    "cnn.compile(optimizer='adam', loss='sparse_categorical_crossentropy', metrics=['accuracy'])"
   ]
  },
  {
   "cell_type": "code",
   "execution_count": 13,
   "metadata": {},
   "outputs": [
    {
     "name": "stdout",
     "output_type": "stream",
     "text": [
      "Model: \"sequential\"\n",
      "_________________________________________________________________\n",
      "Layer (type)                 Output Shape              Param #   \n",
      "=================================================================\n",
      "conv2d (Conv2D)              (None, 30, 30, 32)        896       \n",
      "_________________________________________________________________\n",
      "max_pooling2d (MaxPooling2D) (None, 15, 15, 32)        0         \n",
      "_________________________________________________________________\n",
      "conv2d_1 (Conv2D)            (None, 13, 13, 32)        9248      \n",
      "_________________________________________________________________\n",
      "max_pooling2d_1 (MaxPooling2 (None, 6, 6, 32)          0         \n",
      "_________________________________________________________________\n",
      "flatten (Flatten)            (None, 1152)              0         \n",
      "_________________________________________________________________\n",
      "dense (Dense)                (None, 64)                73792     \n",
      "_________________________________________________________________\n",
      "dense_1 (Dense)              (None, 10)                650       \n",
      "=================================================================\n",
      "Total params: 84,586\n",
      "Trainable params: 84,586\n",
      "Non-trainable params: 0\n",
      "_________________________________________________________________\n"
     ]
    }
   ],
   "source": [
    "# 模型结构\n",
    "cnn.summary()"
   ]
  },
  {
   "cell_type": "markdown",
   "metadata": {},
   "source": [
    "训练"
   ]
  },
  {
   "cell_type": "code",
   "execution_count": 14,
   "metadata": {},
   "outputs": [
    {
     "name": "stdout",
     "output_type": "stream",
     "text": [
      "Train on 50000 samples, validate on 10000 samples\n",
      "Epoch 1/50\n",
      "50000/50000 [==============================] - 53s 1ms/sample - loss: 1.6668 - acc: 0.4004 - val_loss: 1.4254 - val_acc: 0.4981\n",
      "Epoch 2/50\n",
      "50000/50000 [==============================] - 49s 988us/sample - loss: 1.3293 - acc: 0.5314 - val_loss: 1.2407 - val_acc: 0.5598\n",
      "Epoch 3/50\n",
      "50000/50000 [==============================] - 57s 1ms/sample - loss: 1.2078 - acc: 0.5767 - val_loss: 1.1627 - val_acc: 0.5911\n",
      "Epoch 4/50\n",
      "50000/50000 [==============================] - 57s 1ms/sample - loss: 1.1326 - acc: 0.6037 - val_loss: 1.1244 - val_acc: 0.6081\n",
      "Epoch 5/50\n",
      "50000/50000 [==============================] - 56s 1ms/sample - loss: 1.0797 - acc: 0.6244 - val_loss: 1.0719 - val_acc: 0.6233\n",
      "Epoch 6/50\n",
      "50000/50000 [==============================] - 58s 1ms/sample - loss: 1.0461 - acc: 0.6377 - val_loss: 1.0609 - val_acc: 0.6304\n",
      "Epoch 7/50\n",
      "50000/50000 [==============================] - 64s 1ms/sample - loss: 1.0075 - acc: 0.6524 - val_loss: 1.0433 - val_acc: 0.6375\n",
      "Epoch 8/50\n",
      "50000/50000 [==============================] - 71s 1ms/sample - loss: 0.9812 - acc: 0.6597 - val_loss: 1.0442 - val_acc: 0.6389\n",
      "Epoch 9/50\n",
      "50000/50000 [==============================] - 71s 1ms/sample - loss: 0.9494 - acc: 0.6738 - val_loss: 1.0027 - val_acc: 0.6518\n",
      "Epoch 10/50\n",
      "50000/50000 [==============================] - 67s 1ms/sample - loss: 0.9284 - acc: 0.6780 - val_loss: 1.0274 - val_acc: 0.6367\n",
      "Epoch 11/50\n",
      "50000/50000 [==============================] - 64s 1ms/sample - loss: 0.9063 - acc: 0.6871 - val_loss: 0.9712 - val_acc: 0.6672\n",
      "Epoch 12/50\n",
      "50000/50000 [==============================] - 54s 1ms/sample - loss: 0.8834 - acc: 0.6963 - val_loss: 0.9795 - val_acc: 0.6615\n",
      "Epoch 13/50\n",
      "50000/50000 [==============================] - 51s 1ms/sample - loss: 0.8595 - acc: 0.7030 - val_loss: 0.9498 - val_acc: 0.6720\n",
      "Epoch 14/50\n",
      "50000/50000 [==============================] - 52s 1ms/sample - loss: 0.8473 - acc: 0.7089 - val_loss: 0.9663 - val_acc: 0.6663\n",
      "Epoch 15/50\n",
      "50000/50000 [==============================] - 52s 1ms/sample - loss: 0.8233 - acc: 0.7186 - val_loss: 0.9666 - val_acc: 0.6675\n",
      "Epoch 16/50\n",
      "50000/50000 [==============================] - 54s 1ms/sample - loss: 0.8088 - acc: 0.7217 - val_loss: 0.9890 - val_acc: 0.6633\n",
      "Epoch 17/50\n",
      "50000/50000 [==============================] - 51s 1ms/sample - loss: 0.7909 - acc: 0.7271 - val_loss: 0.9512 - val_acc: 0.6697\n",
      "Epoch 18/50\n",
      "50000/50000 [==============================] - 51s 1ms/sample - loss: 0.7790 - acc: 0.7320 - val_loss: 0.9500 - val_acc: 0.6715\n",
      "Epoch 19/50\n",
      "50000/50000 [==============================] - 49s 980us/sample - loss: 0.7584 - acc: 0.7396 - val_loss: 0.9311 - val_acc: 0.6794\n",
      "Epoch 20/50\n",
      "50000/50000 [==============================] - 49s 975us/sample - loss: 0.7414 - acc: 0.7446 - val_loss: 0.9464 - val_acc: 0.6787\n",
      "Epoch 21/50\n",
      "50000/50000 [==============================] - 48s 964us/sample - loss: 0.7326 - acc: 0.7466 - val_loss: 0.9138 - val_acc: 0.6865\n",
      "Epoch 22/50\n",
      "50000/50000 [==============================] - 48s 969us/sample - loss: 0.7148 - acc: 0.7531 - val_loss: 0.9382 - val_acc: 0.6824\n",
      "Epoch 23/50\n",
      "50000/50000 [==============================] - 49s 971us/sample - loss: 0.7073 - acc: 0.7566 - val_loss: 0.9601 - val_acc: 0.6812\n",
      "Epoch 24/50\n",
      "50000/50000 [==============================] - 51s 1ms/sample - loss: 0.6880 - acc: 0.7617 - val_loss: 0.9183 - val_acc: 0.6933\n",
      "Epoch 25/50\n",
      "50000/50000 [==============================] - 53s 1ms/sample - loss: 0.6734 - acc: 0.7651 - val_loss: 0.9226 - val_acc: 0.6941\n",
      "Epoch 26/50\n",
      "50000/50000 [==============================] - 55s 1ms/sample - loss: 0.6677 - acc: 0.7691 - val_loss: 0.9705 - val_acc: 0.6747\n",
      "Epoch 27/50\n",
      "50000/50000 [==============================] - 54s 1ms/sample - loss: 0.6547 - acc: 0.7747 - val_loss: 0.9252 - val_acc: 0.6931\n",
      "Epoch 28/50\n",
      "50000/50000 [==============================] - 51s 1ms/sample - loss: 0.6430 - acc: 0.7787 - val_loss: 0.9328 - val_acc: 0.6915\n",
      "Epoch 29/50\n",
      "50000/50000 [==============================] - 51s 1ms/sample - loss: 0.6312 - acc: 0.7793 - val_loss: 0.9566 - val_acc: 0.6895\n",
      "Epoch 30/50\n",
      "50000/50000 [==============================] - 51s 1ms/sample - loss: 0.6246 - acc: 0.7825 - val_loss: 0.9674 - val_acc: 0.6873\n",
      "Epoch 31/50\n",
      "50000/50000 [==============================] - 49s 975us/sample - loss: 0.6164 - acc: 0.7863 - val_loss: 0.9398 - val_acc: 0.6927\n",
      "Epoch 32/50\n",
      "50000/50000 [==============================] - 47s 944us/sample - loss: 0.6020 - acc: 0.7897 - val_loss: 0.9431 - val_acc: 0.6964\n",
      "Epoch 33/50\n",
      "50000/50000 [==============================] - 50s 998us/sample - loss: 0.5937 - acc: 0.7948 - val_loss: 0.9425 - val_acc: 0.6970\n",
      "Epoch 34/50\n",
      "50000/50000 [==============================] - 56s 1ms/sample - loss: 0.5806 - acc: 0.7985 - val_loss: 0.9449 - val_acc: 0.7022\n",
      "Epoch 35/50\n",
      "50000/50000 [==============================] - 54s 1ms/sample - loss: 0.5680 - acc: 0.8036 - val_loss: 0.9930 - val_acc: 0.6854\n",
      "Epoch 36/50\n",
      "50000/50000 [==============================] - 49s 977us/sample - loss: 0.5681 - acc: 0.8019 - val_loss: 0.9868 - val_acc: 0.6853\n",
      "Epoch 37/50\n",
      "50000/50000 [==============================] - 49s 979us/sample - loss: 0.5576 - acc: 0.8075 - val_loss: 1.0031 - val_acc: 0.6907\n",
      "Epoch 38/50\n",
      "50000/50000 [==============================] - 51s 1ms/sample - loss: 0.5531 - acc: 0.8067 - val_loss: 0.9938 - val_acc: 0.6888\n",
      "Epoch 39/50\n",
      "50000/50000 [==============================] - 53s 1ms/sample - loss: 0.5401 - acc: 0.8107 - val_loss: 1.0125 - val_acc: 0.6877\n",
      "Epoch 40/50\n",
      "50000/50000 [==============================] - 64s 1ms/sample - loss: 0.5318 - acc: 0.8148 - val_loss: 1.0190 - val_acc: 0.6888\n",
      "Epoch 41/50\n",
      "50000/50000 [==============================] - 57s 1ms/sample - loss: 0.5248 - acc: 0.8182 - val_loss: 0.9959 - val_acc: 0.6974\n",
      "Epoch 42/50\n",
      "50000/50000 [==============================] - 51s 1ms/sample - loss: 0.5152 - acc: 0.8184 - val_loss: 0.9921 - val_acc: 0.6966\n",
      "Epoch 43/50\n",
      "50000/50000 [==============================] - 51s 1ms/sample - loss: 0.5043 - acc: 0.8244 - val_loss: 1.0379 - val_acc: 0.6911\n",
      "Epoch 44/50\n",
      "50000/50000 [==============================] - 51s 1ms/sample - loss: 0.5057 - acc: 0.8217 - val_loss: 1.0227 - val_acc: 0.6924\n",
      "Epoch 45/50\n",
      "50000/50000 [==============================] - 51s 1ms/sample - loss: 0.4933 - acc: 0.8287 - val_loss: 1.0404 - val_acc: 0.6901\n",
      "Epoch 46/50\n",
      "50000/50000 [==============================] - 51s 1ms/sample - loss: 0.4844 - acc: 0.8298 - val_loss: 1.0543 - val_acc: 0.6890\n",
      "Epoch 47/50\n",
      "50000/50000 [==============================] - 54s 1ms/sample - loss: 0.4762 - acc: 0.8347 - val_loss: 1.1050 - val_acc: 0.6803\n",
      "Epoch 48/50\n",
      "50000/50000 [==============================] - 51s 1ms/sample - loss: 0.4711 - acc: 0.8345 - val_loss: 1.1110 - val_acc: 0.6814\n",
      "Epoch 49/50\n",
      "50000/50000 [==============================] - 51s 1ms/sample - loss: 0.4597 - acc: 0.8394 - val_loss: 1.0787 - val_acc: 0.6911\n",
      "Epoch 50/50\n",
      "50000/50000 [==============================] - 52s 1ms/sample - loss: 0.4582 - acc: 0.8391 - val_loss: 1.1321 - val_acc: 0.6807\n"
     ]
    }
   ],
   "source": [
    "# 训练\n",
    "history2=cnn.fit(X_train, y_train, validation_data= (X_test, y_test), batch_size=128,verbose=1,epochs=50,callbacks=[history])"
   ]
  },
  {
   "cell_type": "code",
   "execution_count": 15,
   "metadata": {},
   "outputs": [
    {
     "name": "stdout",
     "output_type": "stream",
     "text": [
      "<tensorflow.python.keras.callbacks.History object at 0x000002CA00782748>\n"
     ]
    }
   ],
   "source": [
    "print(history2)"
   ]
  },
  {
   "cell_type": "code",
   "execution_count": 16,
   "metadata": {},
   "outputs": [
    {
     "data": {
      "image/png": "[encoded data removed]",
      "text/plain": [
       "<Figure size 432x288 with 1 Axes>"
      ]
     },
     "metadata": {
      "needs_background": "light"
     },
     "output_type": "display_data"
    }
   ],
   "source": [
    "import matplotlib.pyplot as plt\n",
    "plt.plot(history2.history['acc'])\n",
    "plt.plot(history2.history['val_acc'])\n",
    "plt.legend(['training', 'validation'], loc='upper left')\n",
    "plt.show()"
   ]
  },
  {
   "cell_type": "code",
   "execution_count": 17,
   "metadata": {},
   "outputs": [
    {
     "name": "stdout",
     "output_type": "stream",
     "text": [
      "10000/10000 [==============================] - 4s 419us/sample - loss: 1.1321 - acc: 0.6807\n",
      "[1.1321317819595338, 0.6807]\n"
     ]
    }
   ],
   "source": [
    "#评估模型\n",
    "score = cnn.evaluate(X_test, y_test)\n",
    "print(score)"
   ]
  },
  {
   "cell_type": "code",
   "execution_count": 18,
   "metadata": {},
   "outputs": [],
   "source": [
    "from sklearn.metrics import confusion_matrix\n",
    "# 加载相关库函数\n",
    "import numpy as np\n",
    "import pandas as pd\n",
    "import matplotlib.pyplot as plt\n",
    "import seaborn as sns\n",
    "def plot_confusion_matrix(y, y_pred, cmap=plt.cm.Blues, title='混淆矩阵'):\n",
    "    \"\"\"\n",
    "    绘制混淆矩阵\n",
    "    :param y: 真实值\n",
    "    :param y_pred: 预测值\n",
    "    :param cmap: 热力图的颜色\n",
    "    :param title: 图像标题\n",
    "    :return:\n",
    "    \"\"\"\n",
    "    cm = confusion_matrix(y, y_pred)\n",
    "    classes = list(set(y))\n",
    "    classes.sort()\n",
    "    plt.imshow(cm, cmap)\n",
    "    indices = range(len(cm))\n",
    "    plt.xticks(indices, classes)\n",
    "    plt.yticks(indices, classes)\n",
    "    # 热度表\n",
    "    plt.colorbar()\n",
    "    # 坐标轴含义\n",
    "    plt.xlabel('guess')\n",
    "    plt.ylabel('fact')\n",
    "    plt.title(title)\n",
    "    # 显示数据的值（Numbers）\n",
    "    for first_index in range(len(cm)):\n",
    "        for second_index in range(len(cm[first_index])):\n",
    "            plt.text(first_index, second_index, cm[first_index][second_index])"
   ]
  },
  {
   "cell_type": "code",
   "execution_count": 19,
   "metadata": {},
   "outputs": [],
   "source": [
    "y_pred=cnn.predict_classes(X_test)"
   ]
  },
  {
   "cell_type": "code",
   "execution_count": 20,
   "metadata": {},
   "outputs": [
    {
     "data": {
      "text/plain": [
       "array([3, 8, 8, ..., 7, 0, 7], dtype=int64)"
      ]
     },
     "execution_count": 20,
     "metadata": {},
     "output_type": "execute_result"
    }
   ],
   "source": [
    "y_pred"
   ]
  },
  {
   "cell_type": "code",
   "execution_count": 21,
   "metadata": {},
   "outputs": [
    {
     "data": {
      "text/plain": [
       "array([3, 8, 8, ..., 5, 1, 7])"
      ]
     },
     "execution_count": 21,
     "metadata": {},
     "output_type": "execute_result"
    }
   ],
   "source": [
    "y_test"
   ]
  },
  {
   "cell_type": "code",
   "execution_count": 22,
   "metadata": {},
   "outputs": [
    {
     "data": {
      "image/png": "[encoded data removed]",
      "text/plain": [
       "<Figure size 1152x576 with 2 Axes>"
      ]
     },
     "metadata": {},
     "output_type": "display_data"
    }
   ],
   "source": [
    "# 输出混淆矩阵\n",
    "plt.figure(figsize=(16,8), facecolor='w')\n",
    "\n",
    "from pylab import mpl\n",
    "mpl.rcParams['font.sans-serif'] = ['FangSong']  # 指定默认字体\n",
    "mpl.rcParams['axes.unicode_minus'] = False  # 解决保存图像是负号'-'显示为方块的问题\n",
    "plot_confusion_matrix(y_test,y_pred,\n",
    "                      title='测试集混淆矩阵')\n",
    "plt.show()"
   ]
  },
  {
   "cell_type": "markdown",
   "metadata": {},
   "source": [
    "### 测试一下"
   ]
  },
  {
   "cell_type": "code",
   "execution_count": 23,
   "metadata": {},
   "outputs": [],
   "source": [
    "y_pred = cnn.predict(X_test)"
   ]
  },
  {
   "cell_type": "code",
   "execution_count": 24,
   "metadata": {},
   "outputs": [
    {
     "data": {
      "image/png": "[encoded data removed]",
      "text/plain": [
       "<Figure size 432x288 with 2 Axes>"
      ]
     },
     "metadata": {
      "needs_background": "light"
     },
     "output_type": "display_data"
    }
   ],
   "source": [
    "def predict_img(X, y, idx):\n",
    "    plt.figsize=(2,2)\n",
    "    ax1 = plt.subplot(1,2,1)\n",
    "    ax1.imshow(X[idx])\n",
    "    plt.title(\"Actual:\" + str(classes[y[idx]]))\n",
    "    ax2 = plt.subplot(1,2,2)\n",
    "    ax2.imshow(X[idx])\n",
    "    plt.title(\"Predicted:\" + str(classes[np.argmax(y_pred[idx])]))\n",
    "    plt.show()\n",
    "\n",
    "predict_img(X_test, y_test, 11)"
   ]
  }
 ],
 "metadata": {
  "kernelspec": {
   "display_name": "Python 3",
   "language": "python",
   "name": "python3"
  },
  "language_info": {
   "codemirror_mode": {
    "name": "ipython",
    "version": 3
   },
   "file_extension": ".py",
   "mimetype": "text/x-python",
   "name": "python",
   "nbconvert_exporter": "python",
   "pygments_lexer": "ipython3",
   "version": "3.8.8"
  }
 },
 "nbformat": 4,
 "nbformat_minor": 4
}
