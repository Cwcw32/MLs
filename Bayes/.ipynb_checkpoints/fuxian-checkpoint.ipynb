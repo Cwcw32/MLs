{
 "cells": [
  {
   "cell_type": "markdown",
   "id": "29a96324",
   "metadata": {},
   "source": [
    "## 复现内容：\n",
    "### （1）python 实现基于贝叶斯的 IMDB 文本情感分类算法。(√)\n",
    "### （2）掌握文本类数据特征处理方式。(√)\n",
    "### （3）掌握 TF_IDF 的基本思想，并使用 TD_IDF 实现新闻话题分类预测。(√)"
   ]
  },
  {
   "cell_type": "markdown",
   "id": "a62bb231",
   "metadata": {},
   "source": [
    "# ①python 实现基于贝叶斯的 IMDB 文本情感分类算法。"
   ]
  },
  {
   "cell_type": "markdown",
   "id": "e9bab3e4",
   "metadata": {},
   "source": [
    "#### 加载库函数"
   ]
  },
  {
   "cell_type": "code",
   "execution_count": 1,
   "id": "378dc8bd",
   "metadata": {},
   "outputs": [],
   "source": [
    "import numpy as np\n",
    "import pandas as pd\n",
    "import seaborn as sns\n",
    "import matplotlib.pyplot as plt\n",
    "import nltk\n",
    "from sklearn.feature_extraction.text import CountVectorizer\n",
    "from sklearn.feature_extraction.text import TfidfVectorizer\n",
    "from sklearn.preprocessing import LabelBinarizer\n",
    "from nltk.corpus import stopwords\n",
    "from nltk.stem.porter import PorterStemmer\n",
    "from wordcloud import WordCloud,STOPWORDS\n",
    "from nltk.stem import WordNetLemmatizer\n",
    "from nltk.tokenize import word_tokenize,sent_tokenize\n",
    "from bs4 import BeautifulSoup\n",
    "import spacy\n",
    "import re,string,unicodedata\n",
    "from nltk.tokenize.toktok import ToktokTokenizer\n",
    "from nltk.stem import LancasterStemmer,WordNetLemmatizer\n",
    "from sklearn.linear_model import LogisticRegression,SGDClassifier\n",
    "from sklearn.naive_bayes import MultinomialNB\n",
    "from sklearn.svm import SVC\n",
    "from textblob import TextBlob\n",
    "from textblob import Word\n",
    "from sklearn.metrics import classification_report,confusion_matrix,accuracy_score\n",
    "\n",
    "import os\n",
    "import warnings\n",
    "warnings.filterwarnings('ignore')\n"
   ]
  },
  {
   "cell_type": "markdown",
   "id": "1b13479d",
   "metadata": {},
   "source": [
    "#### 加载数据集"
   ]
  },
  {
   "cell_type": "code",
   "execution_count": 2,
   "id": "c032dc3c",
   "metadata": {},
   "outputs": [
    {
     "name": "stdout",
     "output_type": "stream",
     "text": [
      "(50000, 2)\n"
     ]
    },
    {
     "data": {
      "text/html": [
       "<div>\n",
       "<style scoped>\n",
       "    .dataframe tbody tr th:only-of-type {\n",
       "        vertical-align: middle;\n",
       "    }\n",
       "\n",
       "    .dataframe tbody tr th {\n",
       "        vertical-align: top;\n",
       "    }\n",
       "\n",
       "    .dataframe thead th {\n",
       "        text-align: right;\n",
       "    }\n",
       "</style>\n",
       "<table border=\"1\" class=\"dataframe\">\n",
       "  <thead>\n",
       "    <tr style=\"text-align: right;\">\n",
       "      <th></th>\n",
       "      <th>review</th>\n",
       "      <th>sentiment</th>\n",
       "    </tr>\n",
       "  </thead>\n",
       "  <tbody>\n",
       "    <tr>\n",
       "      <th>0</th>\n",
       "      <td>One of the other reviewers has mentioned that ...</td>\n",
       "      <td>positive</td>\n",
       "    </tr>\n",
       "    <tr>\n",
       "      <th>1</th>\n",
       "      <td>A wonderful little production. &lt;br /&gt;&lt;br /&gt;The...</td>\n",
       "      <td>positive</td>\n",
       "    </tr>\n",
       "    <tr>\n",
       "      <th>2</th>\n",
       "      <td>I thought this was a wonderful way to spend ti...</td>\n",
       "      <td>positive</td>\n",
       "    </tr>\n",
       "    <tr>\n",
       "      <th>3</th>\n",
       "      <td>Basically there's a family where a little boy ...</td>\n",
       "      <td>negative</td>\n",
       "    </tr>\n",
       "    <tr>\n",
       "      <th>4</th>\n",
       "      <td>Petter Mattei's \"Love in the Time of Money\" is...</td>\n",
       "      <td>positive</td>\n",
       "    </tr>\n",
       "    <tr>\n",
       "      <th>5</th>\n",
       "      <td>Probably my all-time favorite movie, a story o...</td>\n",
       "      <td>positive</td>\n",
       "    </tr>\n",
       "    <tr>\n",
       "      <th>6</th>\n",
       "      <td>I sure would like to see a resurrection of a u...</td>\n",
       "      <td>positive</td>\n",
       "    </tr>\n",
       "    <tr>\n",
       "      <th>7</th>\n",
       "      <td>This show was an amazing, fresh &amp; innovative i...</td>\n",
       "      <td>negative</td>\n",
       "    </tr>\n",
       "    <tr>\n",
       "      <th>8</th>\n",
       "      <td>Encouraged by the positive comments about this...</td>\n",
       "      <td>negative</td>\n",
       "    </tr>\n",
       "    <tr>\n",
       "      <th>9</th>\n",
       "      <td>If you like original gut wrenching laughter yo...</td>\n",
       "      <td>positive</td>\n",
       "    </tr>\n",
       "  </tbody>\n",
       "</table>\n",
       "</div>"
      ],
      "text/plain": [
       "                                              review sentiment\n",
       "0  One of the other reviewers has mentioned that ...  positive\n",
       "1  A wonderful little production. <br /><br />The...  positive\n",
       "2  I thought this was a wonderful way to spend ti...  positive\n",
       "3  Basically there's a family where a little boy ...  negative\n",
       "4  Petter Mattei's \"Love in the Time of Money\" is...  positive\n",
       "5  Probably my all-time favorite movie, a story o...  positive\n",
       "6  I sure would like to see a resurrection of a u...  positive\n",
       "7  This show was an amazing, fresh & innovative i...  negative\n",
       "8  Encouraged by the positive comments about this...  negative\n",
       "9  If you like original gut wrenching laughter yo...  positive"
      ]
     },
     "execution_count": 2,
     "metadata": {},
     "output_type": "execute_result"
    }
   ],
   "source": [
    "imdb_data=pd.read_csv('data/IMDB Dataset.csv')\n",
    "print(imdb_data.shape)\n",
    "imdb_data.head(10)"
   ]
  },
  {
   "cell_type": "markdown",
   "id": "97a5a386",
   "metadata": {},
   "source": [
    "### 观察数据"
   ]
  },
  {
   "cell_type": "code",
   "execution_count": 3,
   "id": "f2bf0486",
   "metadata": {},
   "outputs": [
    {
     "data": {
      "text/html": [
       "<div>\n",
       "<style scoped>\n",
       "    .dataframe tbody tr th:only-of-type {\n",
       "        vertical-align: middle;\n",
       "    }\n",
       "\n",
       "    .dataframe tbody tr th {\n",
       "        vertical-align: top;\n",
       "    }\n",
       "\n",
       "    .dataframe thead th {\n",
       "        text-align: right;\n",
       "    }\n",
       "</style>\n",
       "<table border=\"1\" class=\"dataframe\">\n",
       "  <thead>\n",
       "    <tr style=\"text-align: right;\">\n",
       "      <th></th>\n",
       "      <th>review</th>\n",
       "      <th>sentiment</th>\n",
       "    </tr>\n",
       "  </thead>\n",
       "  <tbody>\n",
       "    <tr>\n",
       "      <th>count</th>\n",
       "      <td>50000</td>\n",
       "      <td>50000</td>\n",
       "    </tr>\n",
       "    <tr>\n",
       "      <th>unique</th>\n",
       "      <td>49582</td>\n",
       "      <td>2</td>\n",
       "    </tr>\n",
       "    <tr>\n",
       "      <th>top</th>\n",
       "      <td>Loved today's show!!! It was a variety and not...</td>\n",
       "      <td>negative</td>\n",
       "    </tr>\n",
       "    <tr>\n",
       "      <th>freq</th>\n",
       "      <td>5</td>\n",
       "      <td>25000</td>\n",
       "    </tr>\n",
       "  </tbody>\n",
       "</table>\n",
       "</div>"
      ],
      "text/plain": [
       "                                                   review sentiment\n",
       "count                                               50000     50000\n",
       "unique                                              49582         2\n",
       "top     Loved today's show!!! It was a variety and not...  negative\n",
       "freq                                                    5     25000"
      ]
     },
     "execution_count": 3,
     "metadata": {},
     "output_type": "execute_result"
    }
   ],
   "source": [
    "imdb_data.describe()"
   ]
  },
  {
   "cell_type": "code",
   "execution_count": 4,
   "id": "2d6460d9",
   "metadata": {},
   "outputs": [
    {
     "data": {
      "text/plain": [
       "negative    25000\n",
       "positive    25000\n",
       "Name: sentiment, dtype: int64"
      ]
     },
     "execution_count": 4,
     "metadata": {},
     "output_type": "execute_result"
    }
   ],
   "source": [
    "imdb_data['sentiment'].value_counts()"
   ]
  },
  {
   "cell_type": "markdown",
   "id": "2ca11e0e",
   "metadata": {},
   "source": [
    "####  向量化、停用词、特殊词、词干提取等处理"
   ]
  },
  {
   "cell_type": "code",
   "execution_count": 5,
   "id": "06145e5c",
   "metadata": {},
   "outputs": [],
   "source": [
    "# 向量化\n",
    "tokenizer=ToktokTokenizer()\n",
    "# 停用词处理\n",
    "stopword_list=nltk.corpus.stopwords.words('english')"
   ]
  },
  {
   "cell_type": "code",
   "execution_count": 6,
   "id": "c4c3f18a",
   "metadata": {},
   "outputs": [],
   "source": [
    "# 网页字符串处理\n",
    "def cleanHtml(sentence):\n",
    "    cleanr = re.compile('<.*?>')\n",
    "    cleantxt = re.sub(cleanr, ' ', sentence)\n",
    "    return cleantxt\n",
    "# 特殊字符处理\n",
    "def cleanpunc(sentence):\n",
    "    cleaned = re.sub(r'[?|!|\\'|\"|#]', r'', sentence)\n",
    "    cleaned = re.sub(r'[.|,|)|(|\\|/]', r' ', cleaned)\n",
    "    return cleaned"
   ]
  },
  {
   "cell_type": "code",
   "execution_count": 7,
   "id": "da1d6210",
   "metadata": {},
   "outputs": [],
   "source": [
    "# 词干提取\n",
    "sno = nltk.stem.SnowballStemmer(\"english\")\n",
    "stop = set(stopwords.words(\"english\"))\n",
    "all_positive_words = []\n",
    "all_negative_words = []\n",
    "final_string = []\n",
    "str1 = ''\n",
    "i = 0\n",
    "for string in imdb_data['review'].values:\n",
    "    filtered_sentence = []\n",
    "    # 去除HTML信息\n",
    "    sent = cleanHtml(string)\n",
    "    for w in sent.split():\n",
    "        # 对词向量进行处理\n",
    "        for cleanwords in cleanpunc(w).split():\n",
    "            if ((cleanwords.isalpha()) and len(cleanwords)>2):\n",
    "                # 判断是否为停用词\n",
    "                if cleanwords.lower() not in stop:\n",
    "                    s = (sno.stem(cleanwords.lower())).encode('utf-8')\n",
    "                    filtered_sentence.append(s)\n",
    "                    if (imdb_data[\"sentiment\"].values)[i].lower() == \"positive\":\n",
    "                        all_positive_words.append(s)\n",
    "                    if (imdb_data[\"sentiment\"].values)[i].lower() == \"negative\":\n",
    "                        all_negative_words.append(s)\n",
    "                else:\n",
    "                    continue\n",
    "            else:\n",
    "                continue\n",
    "    # 改成list格式方便后续处理\n",
    "    str1 = b\" \".join(filtered_sentence)\n",
    "    final_string.append(str1)\n",
    "    i += 1        "
   ]
  },
  {
   "cell_type": "code",
   "execution_count": 8,
   "id": "a63f73ff",
   "metadata": {},
   "outputs": [
    {
     "name": "stdout",
     "output_type": "stream",
     "text": [
      "2923508\n",
      "2848517\n"
     ]
    },
    {
     "data": {
      "image/png": "[encoded data removed]",
      "text/plain": [
       "<Figure size 432x288 with 2 Axes>"
      ]
     },
     "metadata": {
      "needs_background": "light"
     },
     "output_type": "display_data"
    }
   ],
   "source": [
    "# 观察分布\n",
    "from collections import Counter\n",
    "fig, axis = plt.subplots(1, 2)\n",
    "print(len(all_positive_words))\n",
    "pos_words_freq = list(Counter(all_positive_words).values())\n",
    "print(len(all_negative_words))\n",
    "neg_words_freq = list(Counter(all_negative_words).values())\n",
    "sns.distplot(pos_words_freq, ax = axis[0])\n",
    "sns.distplot(neg_words_freq, ax = axis[1])\n",
    "fig.show()"
   ]
  },
  {
   "cell_type": "code",
   "execution_count": 9,
   "id": "94cfdfb4",
   "metadata": {},
   "outputs": [],
   "source": [
    "imdb_data[\"review\"] = final_string"
   ]
  },
  {
   "cell_type": "code",
   "execution_count": 10,
   "id": "93457fa2",
   "metadata": {
    "scrolled": true
   },
   "outputs": [],
   "source": [
    "import copy\n",
    "dic=copy.deepcopy(imdb_data)"
   ]
  },
  {
   "cell_type": "code",
   "execution_count": 11,
   "id": "9dd852c7",
   "metadata": {},
   "outputs": [],
   "source": [
    "# 改成数字格式\n",
    "def conv_label(label):\n",
    "    if label.lower() == \"positive\":\n",
    "        return 1\n",
    "    elif label.lower() == \"negative\":\n",
    "        return 0\n",
    "\n",
    "imdb_data[\"sentiment\"] = imdb_data[\"sentiment\"].map(conv_label)"
   ]
  },
  {
   "cell_type": "code",
   "execution_count": 12,
   "id": "75114216",
   "metadata": {},
   "outputs": [
    {
     "data": {
      "text/html": [
       "<div>\n",
       "<style scoped>\n",
       "    .dataframe tbody tr th:only-of-type {\n",
       "        vertical-align: middle;\n",
       "    }\n",
       "\n",
       "    .dataframe tbody tr th {\n",
       "        vertical-align: top;\n",
       "    }\n",
       "\n",
       "    .dataframe thead th {\n",
       "        text-align: right;\n",
       "    }\n",
       "</style>\n",
       "<table border=\"1\" class=\"dataframe\">\n",
       "  <thead>\n",
       "    <tr style=\"text-align: right;\">\n",
       "      <th></th>\n",
       "      <th>review</th>\n",
       "      <th>sentiment</th>\n",
       "    </tr>\n",
       "  </thead>\n",
       "  <tbody>\n",
       "    <tr>\n",
       "      <th>0</th>\n",
       "      <td>b'one review mention watch episod youll hook r...</td>\n",
       "      <td>1</td>\n",
       "    </tr>\n",
       "    <tr>\n",
       "      <th>1</th>\n",
       "      <td>b'wonder littl product film techniqu fashion g...</td>\n",
       "      <td>1</td>\n",
       "    </tr>\n",
       "    <tr>\n",
       "      <th>2</th>\n",
       "      <td>b'thought wonder way spend time hot summer wee...</td>\n",
       "      <td>1</td>\n",
       "    </tr>\n",
       "    <tr>\n",
       "      <th>3</th>\n",
       "      <td>b'basic there famili littl boy jake think ther...</td>\n",
       "      <td>0</td>\n",
       "    </tr>\n",
       "    <tr>\n",
       "      <th>4</th>\n",
       "      <td>b'petter mattei love time money visual stun fi...</td>\n",
       "      <td>1</td>\n",
       "    </tr>\n",
       "    <tr>\n",
       "      <th>5</th>\n",
       "      <td>b'probabl favorit movi stori selfless sacrific...</td>\n",
       "      <td>1</td>\n",
       "    </tr>\n",
       "    <tr>\n",
       "      <th>6</th>\n",
       "      <td>b'sure would like see resurrect date seahunt s...</td>\n",
       "      <td>1</td>\n",
       "    </tr>\n",
       "    <tr>\n",
       "      <th>7</th>\n",
       "      <td>b'show amaz fresh innov idea first air first y...</td>\n",
       "      <td>0</td>\n",
       "    </tr>\n",
       "    <tr>\n",
       "      <th>8</th>\n",
       "      <td>b'encourag posit comment film look forward wat...</td>\n",
       "      <td>0</td>\n",
       "    </tr>\n",
       "    <tr>\n",
       "      <th>9</th>\n",
       "      <td>b'like origin gut wrench laughter like movi yo...</td>\n",
       "      <td>1</td>\n",
       "    </tr>\n",
       "  </tbody>\n",
       "</table>\n",
       "</div>"
      ],
      "text/plain": [
       "                                              review  sentiment\n",
       "0  b'one review mention watch episod youll hook r...          1\n",
       "1  b'wonder littl product film techniqu fashion g...          1\n",
       "2  b'thought wonder way spend time hot summer wee...          1\n",
       "3  b'basic there famili littl boy jake think ther...          0\n",
       "4  b'petter mattei love time money visual stun fi...          1\n",
       "5  b'probabl favorit movi stori selfless sacrific...          1\n",
       "6  b'sure would like see resurrect date seahunt s...          1\n",
       "7  b'show amaz fresh innov idea first air first y...          0\n",
       "8  b'encourag posit comment film look forward wat...          0\n",
       "9  b'like origin gut wrench laughter like movi yo...          1"
      ]
     },
     "execution_count": 12,
     "metadata": {},
     "output_type": "execute_result"
    }
   ],
   "source": [
    "imdb_data.head(10)"
   ]
  },
  {
   "cell_type": "code",
   "execution_count": 13,
   "id": "650cb5ab",
   "metadata": {},
   "outputs": [
    {
     "data": {
      "text/html": [
       "<div>\n",
       "<style scoped>\n",
       "    .dataframe tbody tr th:only-of-type {\n",
       "        vertical-align: middle;\n",
       "    }\n",
       "\n",
       "    .dataframe tbody tr th {\n",
       "        vertical-align: top;\n",
       "    }\n",
       "\n",
       "    .dataframe thead th {\n",
       "        text-align: right;\n",
       "    }\n",
       "</style>\n",
       "<table border=\"1\" class=\"dataframe\">\n",
       "  <thead>\n",
       "    <tr style=\"text-align: right;\">\n",
       "      <th></th>\n",
       "      <th>review</th>\n",
       "      <th>sentiment</th>\n",
       "    </tr>\n",
       "  </thead>\n",
       "  <tbody>\n",
       "    <tr>\n",
       "      <th>0</th>\n",
       "      <td>b'one review mention watch episod youll hook r...</td>\n",
       "      <td>positive</td>\n",
       "    </tr>\n",
       "    <tr>\n",
       "      <th>1</th>\n",
       "      <td>b'wonder littl product film techniqu fashion g...</td>\n",
       "      <td>positive</td>\n",
       "    </tr>\n",
       "    <tr>\n",
       "      <th>2</th>\n",
       "      <td>b'thought wonder way spend time hot summer wee...</td>\n",
       "      <td>positive</td>\n",
       "    </tr>\n",
       "    <tr>\n",
       "      <th>3</th>\n",
       "      <td>b'basic there famili littl boy jake think ther...</td>\n",
       "      <td>negative</td>\n",
       "    </tr>\n",
       "    <tr>\n",
       "      <th>4</th>\n",
       "      <td>b'petter mattei love time money visual stun fi...</td>\n",
       "      <td>positive</td>\n",
       "    </tr>\n",
       "    <tr>\n",
       "      <th>...</th>\n",
       "      <td>...</td>\n",
       "      <td>...</td>\n",
       "    </tr>\n",
       "    <tr>\n",
       "      <th>49995</th>\n",
       "      <td>b'thought movi right good job wasnt creativ or...</td>\n",
       "      <td>positive</td>\n",
       "    </tr>\n",
       "    <tr>\n",
       "      <th>49996</th>\n",
       "      <td>b'bad plot bad dialogu bad act idiot direct an...</td>\n",
       "      <td>negative</td>\n",
       "    </tr>\n",
       "    <tr>\n",
       "      <th>49997</th>\n",
       "      <td>b'cathol taught parochi elementari school nun ...</td>\n",
       "      <td>negative</td>\n",
       "    </tr>\n",
       "    <tr>\n",
       "      <th>49998</th>\n",
       "      <td>b'go disagre previous comment side maltin one ...</td>\n",
       "      <td>negative</td>\n",
       "    </tr>\n",
       "    <tr>\n",
       "      <th>49999</th>\n",
       "      <td>b'one expect star trek movi high art fan expec...</td>\n",
       "      <td>negative</td>\n",
       "    </tr>\n",
       "  </tbody>\n",
       "</table>\n",
       "<p>50000 rows × 2 columns</p>\n",
       "</div>"
      ],
      "text/plain": [
       "                                                  review sentiment\n",
       "0      b'one review mention watch episod youll hook r...  positive\n",
       "1      b'wonder littl product film techniqu fashion g...  positive\n",
       "2      b'thought wonder way spend time hot summer wee...  positive\n",
       "3      b'basic there famili littl boy jake think ther...  negative\n",
       "4      b'petter mattei love time money visual stun fi...  positive\n",
       "...                                                  ...       ...\n",
       "49995  b'thought movi right good job wasnt creativ or...  positive\n",
       "49996  b'bad plot bad dialogu bad act idiot direct an...  negative\n",
       "49997  b'cathol taught parochi elementari school nun ...  negative\n",
       "49998  b'go disagre previous comment side maltin one ...  negative\n",
       "49999  b'one expect star trek movi high art fan expec...  negative\n",
       "\n",
       "[50000 rows x 2 columns]"
      ]
     },
     "execution_count": 13,
     "metadata": {},
     "output_type": "execute_result"
    }
   ],
   "source": [
    "dic"
   ]
  },
  {
   "cell_type": "code",
   "execution_count": 14,
   "id": "509258fc",
   "metadata": {},
   "outputs": [],
   "source": [
    "# 计数法\n",
    "count_vect = CountVectorizer(ngram_range = (1, 2))\n",
    "count_vect = count_vect.fit(imdb_data[\"review\"].values)\n",
    "bigram_wrds = count_vect.transform(imdb_data[\"review\"].values)"
   ]
  },
  {
   "cell_type": "code",
   "execution_count": 15,
   "id": "dcc8faec",
   "metadata": {},
   "outputs": [],
   "source": [
    "# TF-IDF法\n",
    "count_vect_tfidf = TfidfVectorizer(ngram_range = (1, 2))\n",
    "count_vect_tfidf = count_vect_tfidf.fit(imdb_data[\"review\"].values)\n",
    "tfidf_wrds  = count_vect_tfidf.transform(imdb_data[\"review\"].values)"
   ]
  },
  {
   "cell_type": "code",
   "execution_count": 22,
   "id": "a3fc09fc",
   "metadata": {},
   "outputs": [],
   "source": [
    "from sklearn.metrics import confusion_matrix\n",
    "def plot_confusion_matrix(y, y_pred, cmap=plt.cm.Blues, title='混淆矩阵'):\n",
    "    \"\"\"\n",
    "    绘制混淆矩阵\n",
    "    :param y: 真实值\n",
    "    :param y_pred: 预测值\n",
    "    :param cmap: 热力图的颜色\n",
    "    :param title: 图像标题\n",
    "    :return:\n",
    "    \"\"\"\n",
    "    cm = confusion_matrix(y, y_pred)\n",
    "    classes = list(set(y))\n",
    "    classes.sort()\n",
    "    plt.imshow(cm, cmap)\n",
    "    indices = range(len(cm))\n",
    "    plt.xticks(indices, classes)\n",
    "    plt.yticks(indices, classes)\n",
    "    # 热度表\n",
    "    plt.colorbar()\n",
    "    # 坐标轴含义\n",
    "    plt.xlabel('guess')\n",
    "    plt.ylabel('fact')\n",
    "    plt.title(title)\n",
    "    # 显示数据的值（Numbers）\n",
    "    for first_index in range(len(cm)):\n",
    "        for second_index in range(len(cm[first_index])):\n",
    "            plt.text(first_index, second_index, cm[first_index][second_index])"
   ]
  },
  {
   "cell_type": "code",
   "execution_count": 23,
   "id": "e1974ffc",
   "metadata": {},
   "outputs": [
    {
     "name": "stdout",
     "output_type": "stream",
     "text": [
      "计数法测试集准确率: 88.22\n",
      "计数法训练集准确率 99.65428571428572\n",
      "              precision    recall  f1-score   support\n",
      "\n",
      "           0       0.86      0.90      0.88      7411\n",
      "           1       0.90      0.86      0.88      7589\n",
      "\n",
      "    accuracy                           0.88     15000\n",
      "   macro avg       0.88      0.88      0.88     15000\n",
      "weighted avg       0.88      0.88      0.88     15000\n",
      "\n"
     ]
    },
    {
     "data": {
      "image/png": "[encoded data removed]",
      "text/plain": [
       "<Figure size 432x288 with 2 Axes>"
      ]
     },
     "metadata": {
      "needs_background": "light"
     },
     "output_type": "display_data"
    }
   ],
   "source": [
    "from sklearn.metrics import confusion_matrix\n",
    "from sklearn.model_selection import train_test_split\n",
    "from sklearn.metrics import accuracy_score \n",
    "from pylab import mpl\n",
    "\n",
    "# change X to bigram_wrds to run classifier on Bag Of Words(BoW)\n",
    "X = bigram_wrds\n",
    "# X = tfidf_wrds\n",
    "Y = imdb_data[\"sentiment\"]\n",
    "x_l, x_test, y_l, y_test = train_test_split(X, Y, test_size = 0.3, random_state = 42)\n",
    "from sklearn.naive_bayes import MultinomialNB\n",
    "clf = MultinomialNB(alpha = 0.7)\n",
    "clf.fit(x_l, y_l)\n",
    "pred = clf.predict(x_test)\n",
    "acc = accuracy_score(y_test, pred, normalize = True) * float(100)  \n",
    "print(\"计数法测试集准确率:\", acc)\n",
    "mpl.rcParams['font.sans-serif'] = ['FangSong']  # 指定默认字体\n",
    "mpl.rcParams['axes.unicode_minus'] = False  # 解决保存图像是负号'-'显示为方块的问题\n",
    "plot_confusion_matrix(y_test,\n",
    "                          pred,\n",
    "                          title='计数法混淆矩阵')\n",
    "train_acc = accuracy_score(y_l, clf.predict(x_l), normalize = True) * float(100)\n",
    "print(\"计数法训练集准确率\", train_acc)\n",
    "print(classification_report(y_test, pred))"
   ]
  },
  {
   "cell_type": "code",
   "execution_count": 24,
   "id": "74892d2c",
   "metadata": {},
   "outputs": [
    {
     "name": "stdout",
     "output_type": "stream",
     "text": [
      "TF-IDF测试集准确率: 88.62\n",
      "TF-IDF训练集准确率: 98.86571428571429\n",
      "              precision    recall  f1-score   support\n",
      "\n",
      "           0       0.87      0.91      0.89      7411\n",
      "           1       0.91      0.87      0.88      7589\n",
      "\n",
      "    accuracy                           0.89     15000\n",
      "   macro avg       0.89      0.89      0.89     15000\n",
      "weighted avg       0.89      0.89      0.89     15000\n",
      "\n"
     ]
    },
    {
     "data": {
      "image/png": "[encoded data removed]",
      "text/plain": [
       "<Figure size 432x288 with 2 Axes>"
      ]
     },
     "metadata": {
      "needs_background": "light"
     },
     "output_type": "display_data"
    }
   ],
   "source": [
    "from sklearn.metrics import confusion_matrix\n",
    "from sklearn.model_selection import train_test_split\n",
    "from sklearn.metrics import accuracy_score \n",
    "X = tfidf_wrds\n",
    "Y = imdb_data[\"sentiment\"]\n",
    "x_l, x_test, y_l, y_test = train_test_split(X, Y, test_size = 0.3, random_state = 42)\n",
    "from sklearn.naive_bayes import MultinomialNB\n",
    "clf = MultinomialNB(alpha = 0.7)\n",
    "clf.fit(x_l, y_l)\n",
    "pred = clf.predict(x_test)\n",
    "acc = accuracy_score(y_test, pred, normalize = True) * float(100)  \n",
    "print(\"TF-IDF测试集准确率:\", acc)\n",
    "plot_confusion_matrix(y_test,\n",
    "                          pred,\n",
    "                          title='TF-IDF法混淆矩阵')\n",
    "train_acc = accuracy_score(y_l, clf.predict(x_l), normalize = True) * float(100)\n",
    "print(\"TF-IDF训练集准确率:\", train_acc)\n",
    "print(classification_report(y_test, pred))"
   ]
  },
  {
   "cell_type": "markdown",
   "id": "2d7cb6a5",
   "metadata": {},
   "source": [
    "# ②使用 TD_IDF 实现新闻话题分类预测"
   ]
  },
  {
   "cell_type": "code",
   "execution_count": 25,
   "id": "f50aeb74",
   "metadata": {},
   "outputs": [],
   "source": [
    "import numpy as np\n",
    "from time import time\n",
    "import matplotlib.pyplot as plt\n",
    "import matplotlib as mpl\n",
    "\n",
    "from sklearn.datasets import fetch_20newsgroups # 引入新闻数据数据包\n",
    "from sklearn.feature_extraction.text import TfidfVectorizer #做tfidf编码\n",
    "from sklearn.feature_selection import SelectKBest, chi2 # 卡方检验——特征筛选\n",
    "from sklearn.linear_model import RidgeClassifier\n",
    "from sklearn.svm import LinearSVC,SVC\n",
    "from sklearn.naive_bayes import MultinomialNB, BernoulliNB\n",
    "from sklearn.neighbors import KNeighborsClassifier\n",
    "from sklearn.ensemble import RandomForestClassifier\n",
    "from sklearn.model_selection import GridSearchCV\n",
    "from sklearn import metrics"
   ]
  },
  {
   "cell_type": "code",
   "execution_count": 26,
   "id": "05511ccf",
   "metadata": {},
   "outputs": [],
   "source": [
    "## 设置属性防止中文乱码\n",
    "mpl.rcParams['font.sans-serif'] = [u'SimHei']\n",
    "mpl.rcParams['axes.unicode_minus'] = False"
   ]
  },
  {
   "cell_type": "code",
   "execution_count": 27,
   "id": "c77eea17",
   "metadata": {},
   "outputs": [
    {
     "name": "stdout",
     "output_type": "stream",
     "text": [
      "开始下载/加载数据...\n",
      "完成数据加载过程.耗时:2.350s\n"
     ]
    }
   ],
   "source": [
    "### 数据加载\n",
    "print (u'开始下载/加载数据...')\n",
    "t_start = time()\n",
    "## 不要头部信息\n",
    "remove = ('headers', 'footers', 'quotes')\n",
    "## 只要这四类数据\n",
    "categories = 'alt.atheism', 'talk.religion.misc', 'comp.graphics', 'sci.space'\n",
    "\n",
    "## 分别加载训练数据和测试数据\n",
    "data_train = fetch_20newsgroups(data_home='./data/',subset='train', categories=categories, shuffle=True, random_state=0, remove=remove)\n",
    "data_test = fetch_20newsgroups(data_home='./data/',subset='test', categories=categories, shuffle=True, random_state=0, remove=remove)\n",
    "\n",
    "## 完成\n",
    "print (u\"完成数据加载过程.耗时:%.3fs\" % (time() - t_start))"
   ]
  },
  {
   "cell_type": "code",
   "execution_count": 28,
   "id": "2e7d2bd7",
   "metadata": {},
   "outputs": [
    {
     "name": "stdout",
     "output_type": "stream",
     "text": [
      "数据类型： <class 'sklearn.utils.Bunch'>\n",
      "2034文本数量 - 2.428MB (训练数据集)\n",
      "1353文本数量 - 1.800MB (测试数据集)\n",
      "训练集和测试集使用的4个类别的名称：\n",
      "['alt.atheism', 'comp.graphics', 'sci.space', 'talk.religion.misc']\n"
     ]
    }
   ],
   "source": [
    "### 获取加载数据的相关信息\n",
    "# 算下docs大小\n",
    "def size_mb(docs):\n",
    "    return sum(len(s.encode('utf-8')) for s in docs) / 1e6\n",
    "\n",
    "categories = data_train.target_names\n",
    "data_train_size_mb = size_mb(data_train.data)\n",
    "data_test_size_mb = size_mb(data_test.data)\n",
    "\n",
    "print(u'数据类型：', type(data_train))\n",
    "print(\"%d文本数量 - %0.3fMB (训练数据集)\" % (len(data_train.data), data_train_size_mb))\n",
    "print(\"%d文本数量 - %0.3fMB (测试数据集)\" % (len(data_test.data), data_test_size_mb))\n",
    "print(u'训练集和测试集使用的%d个类别的名称：' % len(categories))\n",
    "print(categories)"
   ]
  },
  {
   "cell_type": "code",
   "execution_count": 29,
   "id": "72aa4796",
   "metadata": {},
   "outputs": [],
   "source": [
    "### 数据重命名\n",
    "x_train = data_train.data\n",
    "y_train = data_train.target\n",
    "x_test = data_test.data\n",
    "y_test = data_test.target"
   ]
  },
  {
   "cell_type": "code",
   "execution_count": 30,
   "id": "7b742a4e",
   "metadata": {
    "scrolled": true
   },
   "outputs": [
    {
     "name": "stdout",
     "output_type": "stream",
     "text": [
      " -- 前5个文本 -- \n",
      "文本1(属于类别 - alt.atheism)：\n",
      "If one is a vegan (a vegetarian taht eats no animal products at at i.e eggs, \n",
      "milk, cheese, etc., after about 3 years of a vegan diet, you need to start \n",
      "taking B12 supplements because b12 is found only in animals.) Acutally our \n",
      "bodies make B12, I think, but our bodies use up our own B12 after 2 or 3 \n",
      "years.  \n",
      "Lacto-oveo vegetarians, like myself, still get B12 through milk products \n",
      "and eggs, so we don't need supplements.\n",
      "And If anyone knows more, PLEASE post it.  I'm nearly contridicting myself \n",
      "with the mish-mash of knowledge I've gleaned.\n",
      "\n",
      "\n",
      "\n",
      "文本2(属于类别 - comp.graphics)：\n",
      "Hi,\n",
      "         I have a friend who is working on 2-d and 3-d object recognition. He is looking\n",
      "for references describing algorithms on the following subject areas:\n",
      "\n",
      "Thresholding\n",
      "Edge Segmentation\n",
      "Marr-Hildreth\n",
      "Sobel Operator\n",
      "Chain Codes\n",
      "Thinning - Skeletonising\n",
      "\n",
      "If anybody is willing to post an algorithm that they have implemented which demonstrates\n",
      "any of the above topics, it would be much appreciated.\n",
      "\n",
      "Please post all replies to my e-mail address. If requested I will post a summary to the\n",
      "newsgroup in a couple of weeks.\n",
      "\n",
      "\n",
      "Thanks in advance for all replies\n",
      "\n",
      "\n",
      "\n",
      "文本3(属于类别 - comp.graphics)：\n",
      "Hello netters\n",
      "\n",
      "Sorry, I don't know if this is the right way of doing this kind of thing,\n",
      "probably should be a CFV, but since I don't have tha ability to create a \n",
      "news group myself, I just want to start the discussion. \n",
      "\n",
      "I enjoy reading c.g very much, but I often find it difficult to sort out what\n",
      "I'm interested in. Everything from screen-drivers, graphics cards, graphics\n",
      "programming and graphics programs are discused here. What I'd like is a \n",
      "comp.graphics.programmer news group.\n",
      "What do you other think.\n",
      "\n",
      "\n",
      "\n",
      "\n",
      "文本4(属于类别 - comp.graphics)：\n",
      "\n",
      "Yes, I did punch in the wrong numbers (working too many late nites).  I\n",
      "intended on stating 640x400 is 256,000 bytes.  It's not in the bios, just my\n",
      "VESA TSR.\n",
      "\n",
      "\n",
      "\n",
      "\n",
      "文本5(属于类别 - talk.religion.misc)：\n",
      "\n",
      "\n",
      "\n",
      "\n",
      "Well, I am not Andy, but if you had familiarized yourself with some of\n",
      "the current theories/hypotheses about abiogenesis before posting :-), you\n",
      "would be aware of the fact that none of them claims that proteins were\n",
      "assembled randomly from amino acids. It is current thinking that RNA-\n",
      "based replicators came before proteinaceous enzymes, and that proteins\n",
      "were assembled by some kind of primitive translation machinery.\n",
      "\n",
      "Now respond to 2. :-)\n",
      "--Cornelius.\n",
      "\n",
      "\n",
      "\n"
     ]
    }
   ],
   "source": [
    "### 输出前5个样本\n",
    "print (u' -- 前5个文本 -- ')\n",
    "for i in range(5):\n",
    "    print (u'文本%d(属于类别 - %s)：' % (i+1, categories[y_train[i]]))\n",
    "    print (x_train[i])\n",
    "    print ('\\n\\n')"
   ]
  },
  {
   "cell_type": "code",
   "execution_count": 31,
   "id": "adccfb7a",
   "metadata": {},
   "outputs": [
    {
     "name": "stdout",
     "output_type": "stream",
     "text": [
      "训练集样本个数：2034，特征个数：26576\n",
      "停止词:\n",
      "\n",
      "frozenset({'whatever', 'go', 'toward', 'each', 'thick', 'whoever', 'rather', 'though', 'hereby', 'namely', 'done', 'give', 'seeming', 'anyway', 'one', 'much', 'are', 'thus', 'am', 'interest', 'herself', 'wherever', 'part', 'into', 'and', 'be', 'therefore', 'often', 'at', 'couldnt', 'latterly', 'that', 'otherwise', 'last', 'out', 'five', 'another', 'nobody', 'afterwards', 'thin', 'least', 'such', 'well', 'it', 'cry', 'mostly', 'onto', 'there', 'where', 'here', 'until', 'between', 'describe', 'becomes', 'me', 'formerly', 'few', 'somehow', 'their', 'name', 'take', 'detail', 'enough', 'sometimes', 'already', 'mill', 'con', 'several', 'off', 'to', 'once', 'had', 'itself', 'you', 'do', 'also', 'those', 'most', 'somewhere', 'becoming', 'even', 'us', 'cant', 'bill', 'down', 'after', 'when', 'all', 'whereas', 'beforehand', 'amount', 'with', 'about', 'thru', 'has', 'by', 'or', 'him', 'the', 'hereafter', 'wherein', 'have', 'thereafter', 'hasnt', 'her', 'himself', 'every', 'within', 'yourselves', 'six', 'amoungst', 'but', 'elsewhere', 'former', 'bottom', 'thereby', 'seem', 'whenever', 'same', 'hundred', 'if', 'become', 'put', 'can', 'either', 'whereby', 'almost', 'against', 'throughout', 'none', 'up', 'a', 'not', 'four', 'under', 'perhaps', 'ltd', 'noone', 'show', 'fire', 'top', 'we', 'they', 'everywhere', 'yourself', 'others', 'twenty', 'however', 'together', 'twelve', 'get', 'amongst', 'further', 'anyhow', 'find', 'yours', 'as', 'he', 'moreover', 'whether', 'whose', 'them', 'next', 'system', 'mine', 'might', 'whom', 'whereupon', 'yet', 'of', 'an', 'ever', 'for', 'how', 'serious', 'herein', 'any', 'myself', 'anywhere', 'many', 'now', 'our', 'sixty', 'towards', 'this', 'seems', 'were', 'is', 'anything', 'among', 'call', 'his', 'due', 'nevertheless', 'around', 'both', 'else', 'whither', 'what', 're', 'nine', 'been', 'fifty', 'sincere', 'she', 'more', 'upon', 'everything', 'hence', 'forty', 'again', 'too', 'still', 'although', 'through', 'indeed', 'first', 'co', 'ten', 'themselves', 'my', 'on', 'was', 'anyone', 'nothing', 'beside', 'beyond', 'from', 'back', 'will', 'front', 'which', 'would', 'someone', 'move', 'something', 'found', 'must', 'since', 'should', 'per', 'meanwhile', 'whole', 'may', 'inc', 'own', 'its', 'ie', 'thence', 'made', 'above', 'whence', 'hereupon', 'therein', 'nor', 'three', 'please', 'during', 'only', 'very', 'other', 'while', 'then', 'in', 'no', 'seemed', 'never', 'than', 'cannot', 'so', 'always', 'keep', 'nowhere', 'latter', 'etc', 'alone', 'see', 'ourselves', 'ours', 'besides', 'your', 'whereafter', 'sometime', 'without', 'fill', 'via', 'across', 'eleven', 'became', 'full', 'behind', 'less', 'these', 'empty', 'everyone', 'could', 'un', 'thereupon', 'before', 'eight', 'de', 'fifteen', 'third', 'neither', 'two', 'who', 'except', 'being', 'over', 'along', 'side', 'below', 'some', 'i', 'hers', 'because', 'why', 'eg'})\n"
     ]
    }
   ],
   "source": [
    "### 文档转换为向量\n",
    "## 转换\n",
    "## max_df 只取前50%的权重\n",
    "vectorizer = TfidfVectorizer(input='content', stop_words='english', max_df=0.5, sublinear_tf=True)\n",
    "x_train = vectorizer.fit_transform(data_train.data)  # x_train是稀疏的，scipy.sparse.csr.csr_matrix\n",
    "x_test = vectorizer.transform(data_test.data)\n",
    "print (u'训练集样本个数：%d，特征个数：%d' % x_train.shape)\n",
    "print (u'停止词:\\n')\n",
    "print(vectorizer.get_stop_words())\n",
    "## 获取最终的特征属性名称\n",
    "feature_names = np.asarray(vectorizer.get_feature_names())"
   ]
  },
  {
   "cell_type": "code",
   "execution_count": 32,
   "id": "80b47b2f",
   "metadata": {},
   "outputs": [],
   "source": [
    "## 特征选择\n",
    "ch2 = SelectKBest(chi2, k=1000)\n",
    "x_train = ch2.fit_transform(x_train, y_train)\n",
    "x_test = ch2.transform(x_test)\n",
    "feature_names = [feature_names[i] for i in ch2.get_support(indices=True)]"
   ]
  },
  {
   "cell_type": "code",
   "execution_count": 33,
   "id": "105e68f5",
   "metadata": {},
   "outputs": [],
   "source": [
    "alpha_can = np.logspace(-2, 1, 10)\n",
    "param_grid={'alpha': alpha_can}\n",
    "cv=5\n",
    "m = alpha_can.size\n"
   ]
  },
  {
   "cell_type": "code",
   "execution_count": 34,
   "id": "865db552",
   "metadata": {},
   "outputs": [
    {
     "name": "stdout",
     "output_type": "stream",
     "text": [
      "测试时间：0.001秒\n",
      "训练集准确率：85.94%\n",
      "测试集准确率：73.84%\n"
     ]
    }
   ],
   "source": [
    "t_start = time()\n",
    "mnb2=MultinomialNB()\n",
    "mnb2.fit(x_train, y_train)\n",
    "\n",
    "## 模型预测\n",
    "t_start = time()\n",
    "y_hat = mnb2.predict(x_test)\n",
    "t_end = time()\n",
    "t_test = t_end - t_start\n",
    "print (u'测试时间：%.3f秒' % t_test)\n",
    "\n",
    "## 模型效果评估\n",
    "train_acc = metrics.accuracy_score(y_train, mnb2.predict(x_train))\n",
    "test_acc = metrics.accuracy_score(y_test, y_hat)\n",
    "print (u'训练集准确率：%.2f%%' % (100 * train_acc))\n",
    "print (u'测试集准确率：%.2f%%' % (100 * test_acc))"
   ]
  },
  {
   "cell_type": "code",
   "execution_count": 35,
   "id": "f6c74cc3",
   "metadata": {},
   "outputs": [
    {
     "data": {
      "image/png": "[encoded data removed]",
      "text/plain": [
       "<Figure size 432x288 with 2 Axes>"
      ]
     },
     "metadata": {
      "needs_background": "light"
     },
     "output_type": "display_data"
    }
   ],
   "source": [
    "plot_confusion_matrix(y_test,\n",
    "                          y_hat,\n",
    "                          title='TF-IDF法混淆矩阵')"
   ]
  },
  {
   "cell_type": "code",
   "execution_count": null,
   "id": "f4a32a83",
   "metadata": {},
   "outputs": [],
   "source": []
  }
 ],
 "metadata": {
  "kernelspec": {
   "display_name": "Python 3",
   "language": "python",
   "name": "python3"
  },
  "language_info": {
   "codemirror_mode": {
    "name": "ipython",
    "version": 3
   },
   "file_extension": ".py",
   "mimetype": "text/x-python",
   "name": "python",
   "nbconvert_exporter": "python",
   "pygments_lexer": "ipython3",
   "version": "3.7.10"
  }
 },
 "nbformat": 4,
 "nbformat_minor": 5
}
