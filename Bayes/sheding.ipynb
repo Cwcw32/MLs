{
 "cells": [
  {
   "cell_type": "markdown",
   "id": "3dd95e4c",
   "metadata": {},
   "source": [
    "## 拓展实验：\n",
    "### （1） 使用朴素贝叶斯实现垃圾邮件分类。实验数据可以自己拟定，也可使用给定的数据集。\n",
    "### （2） 也可以使用朴素贝叶斯对社区留言板等社交平台的两种极端（积极的，消极的）评价进行文本情感分类。"
   ]
  },
  {
   "cell_type": "markdown",
   "id": "8e75d7b0",
   "metadata": {},
   "source": [
    "# ①使用朴素贝叶斯实现垃圾邮件分类。实验数据可以自己拟定，也可使用给定的数据集。"
   ]
  },
  {
   "cell_type": "code",
   "execution_count": 1,
   "id": "93d6bdef",
   "metadata": {},
   "outputs": [],
   "source": [
    "from datetime import timedelta\n",
    "import torch\n",
    "import torch.nn as nn\n",
    "import pandas as pd\n",
    "import spacy\n",
    "import numpy as np\n",
    "import seaborn as sns\n",
    "import matplotlib.pyplot as plt\n",
    "import nltk\n",
    "from sklearn.feature_extraction.text import CountVectorizer\n",
    "from sklearn.feature_extraction.text import TfidfVectorizer\n",
    "from sklearn.preprocessing import LabelBinarizer\n",
    "from nltk.corpus import stopwords\n",
    "from nltk.stem.porter import PorterStemmer\n",
    "from wordcloud import WordCloud,STOPWORDS\n",
    "from nltk.stem import WordNetLemmatizer\n",
    "from nltk.tokenize import word_tokenize,sent_tokenize\n",
    "from bs4 import BeautifulSoup\n",
    "import spacy\n",
    "import re,string,unicodedata\n",
    "from nltk.tokenize.toktok import ToktokTokenizer\n",
    "from nltk.stem import LancasterStemmer,WordNetLemmatizer\n",
    "from sklearn.linear_model import LogisticRegression,SGDClassifier\n",
    "from sklearn.naive_bayes import MultinomialNB\n",
    "from sklearn.svm import SVC\n",
    "from textblob import TextBlob\n",
    "from textblob import Word\n",
    "from sklearn.metrics import classification_report,confusion_matrix,accuracy_score\n",
    "\n",
    "import os\n",
    "import warnings\n",
    "warnings.filterwarnings('ignore')\n"
   ]
  },
  {
   "cell_type": "markdown",
   "id": "01967b54",
   "metadata": {},
   "source": [
    "#### 加载数据集"
   ]
  },
  {
   "cell_type": "code",
   "execution_count": 2,
   "id": "975a7dd9",
   "metadata": {},
   "outputs": [],
   "source": [
    "df = pd.read_table('data/SMSSpamCollection', sep='\\t', header=None, names=['label', 'message'])"
   ]
  },
  {
   "cell_type": "code",
   "execution_count": 3,
   "id": "d6685fa6",
   "metadata": {},
   "outputs": [
    {
     "data": {
      "text/html": [
       "<div>\n",
       "<style scoped>\n",
       "    .dataframe tbody tr th:only-of-type {\n",
       "        vertical-align: middle;\n",
       "    }\n",
       "\n",
       "    .dataframe tbody tr th {\n",
       "        vertical-align: top;\n",
       "    }\n",
       "\n",
       "    .dataframe thead th {\n",
       "        text-align: right;\n",
       "    }\n",
       "</style>\n",
       "<table border=\"1\" class=\"dataframe\">\n",
       "  <thead>\n",
       "    <tr style=\"text-align: right;\">\n",
       "      <th></th>\n",
       "      <th>label</th>\n",
       "      <th>message</th>\n",
       "    </tr>\n",
       "  </thead>\n",
       "  <tbody>\n",
       "    <tr>\n",
       "      <th>0</th>\n",
       "      <td>ham</td>\n",
       "      <td>Go until jurong point, crazy.. Available only ...</td>\n",
       "    </tr>\n",
       "    <tr>\n",
       "      <th>1</th>\n",
       "      <td>ham</td>\n",
       "      <td>Ok lar... Joking wif u oni...</td>\n",
       "    </tr>\n",
       "    <tr>\n",
       "      <th>2</th>\n",
       "      <td>spam</td>\n",
       "      <td>Free entry in 2 a wkly comp to win FA Cup fina...</td>\n",
       "    </tr>\n",
       "    <tr>\n",
       "      <th>3</th>\n",
       "      <td>ham</td>\n",
       "      <td>U dun say so early hor... U c already then say...</td>\n",
       "    </tr>\n",
       "    <tr>\n",
       "      <th>4</th>\n",
       "      <td>ham</td>\n",
       "      <td>Nah I don't think he goes to usf, he lives aro...</td>\n",
       "    </tr>\n",
       "  </tbody>\n",
       "</table>\n",
       "</div>"
      ],
      "text/plain": [
       "  label                                            message\n",
       "0   ham  Go until jurong point, crazy.. Available only ...\n",
       "1   ham                      Ok lar... Joking wif u oni...\n",
       "2  spam  Free entry in 2 a wkly comp to win FA Cup fina...\n",
       "3   ham  U dun say so early hor... U c already then say...\n",
       "4   ham  Nah I don't think he goes to usf, he lives aro..."
      ]
     },
     "execution_count": 3,
     "metadata": {},
     "output_type": "execute_result"
    }
   ],
   "source": [
    "df.head()"
   ]
  },
  {
   "cell_type": "code",
   "execution_count": 4,
   "id": "309bcb63",
   "metadata": {},
   "outputs": [],
   "source": [
    "# 改为数字\n",
    "df['label'] = df.label.map({'ham': 0, 'spam': 1})  "
   ]
  },
  {
   "cell_type": "code",
   "execution_count": 5,
   "id": "618eec25",
   "metadata": {},
   "outputs": [
    {
     "data": {
      "text/html": [
       "<div>\n",
       "<style scoped>\n",
       "    .dataframe tbody tr th:only-of-type {\n",
       "        vertical-align: middle;\n",
       "    }\n",
       "\n",
       "    .dataframe tbody tr th {\n",
       "        vertical-align: top;\n",
       "    }\n",
       "\n",
       "    .dataframe thead th {\n",
       "        text-align: right;\n",
       "    }\n",
       "</style>\n",
       "<table border=\"1\" class=\"dataframe\">\n",
       "  <thead>\n",
       "    <tr style=\"text-align: right;\">\n",
       "      <th></th>\n",
       "      <th>label</th>\n",
       "      <th>message</th>\n",
       "    </tr>\n",
       "  </thead>\n",
       "  <tbody>\n",
       "    <tr>\n",
       "      <th>0</th>\n",
       "      <td>0</td>\n",
       "      <td>Go until jurong point, crazy.. Available only ...</td>\n",
       "    </tr>\n",
       "    <tr>\n",
       "      <th>1</th>\n",
       "      <td>0</td>\n",
       "      <td>Ok lar... Joking wif u oni...</td>\n",
       "    </tr>\n",
       "    <tr>\n",
       "      <th>2</th>\n",
       "      <td>1</td>\n",
       "      <td>Free entry in 2 a wkly comp to win FA Cup fina...</td>\n",
       "    </tr>\n",
       "    <tr>\n",
       "      <th>3</th>\n",
       "      <td>0</td>\n",
       "      <td>U dun say so early hor... U c already then say...</td>\n",
       "    </tr>\n",
       "    <tr>\n",
       "      <th>4</th>\n",
       "      <td>0</td>\n",
       "      <td>Nah I don't think he goes to usf, he lives aro...</td>\n",
       "    </tr>\n",
       "  </tbody>\n",
       "</table>\n",
       "</div>"
      ],
      "text/plain": [
       "   label                                            message\n",
       "0      0  Go until jurong point, crazy.. Available only ...\n",
       "1      0                      Ok lar... Joking wif u oni...\n",
       "2      1  Free entry in 2 a wkly comp to win FA Cup fina...\n",
       "3      0  U dun say so early hor... U c already then say...\n",
       "4      0  Nah I don't think he goes to usf, he lives aro..."
      ]
     },
     "execution_count": 5,
     "metadata": {},
     "output_type": "execute_result"
    }
   ],
   "source": [
    "df.head()"
   ]
  },
  {
   "cell_type": "code",
   "execution_count": 6,
   "id": "074a7c66",
   "metadata": {},
   "outputs": [],
   "source": [
    "df['message'] = df.message.map(lambda x: x.lower()) "
   ]
  },
  {
   "cell_type": "code",
   "execution_count": 7,
   "id": "4a06380f",
   "metadata": {},
   "outputs": [
    {
     "data": {
      "text/plain": [
       "0       go until jurong point, crazy.. available only ...\n",
       "1                           ok lar... joking wif u oni...\n",
       "2       free entry in 2 a wkly comp to win fa cup fina...\n",
       "3       u dun say so early hor... u c already then say...\n",
       "4       nah i don't think he goes to usf, he lives aro...\n",
       "                              ...                        \n",
       "5567    this is the 2nd time we have tried 2 contact u...\n",
       "5568                 will ü b going to esplanade fr home?\n",
       "5569    pity, * was in mood for that. so...any other s...\n",
       "5570    the guy did some bitching but i acted like i'd...\n",
       "5571                           rofl. its true to its name\n",
       "Name: message, Length: 5572, dtype: object"
      ]
     },
     "execution_count": 7,
     "metadata": {},
     "output_type": "execute_result"
    }
   ],
   "source": [
    "# 观察结果\n",
    "df['message']"
   ]
  },
  {
   "cell_type": "code",
   "execution_count": 8,
   "id": "567dd415",
   "metadata": {},
   "outputs": [],
   "source": [
    "# 向量化\n",
    "tokenizer=ToktokTokenizer()\n",
    "# 停用词\n",
    "stopword_list=nltk.corpus.stopwords.words('english')"
   ]
  },
  {
   "cell_type": "code",
   "execution_count": 9,
   "id": "5cddf294",
   "metadata": {},
   "outputs": [],
   "source": [
    "# 去掉html标签\n",
    "def strip_html(text):\n",
    "    soup = BeautifulSoup(text, \"html.parser\")\n",
    "    return soup.get_text()\n",
    "\n",
    "# 去掉多余空格\n",
    "def remove_between_square_brackets(text):\n",
    "    return re.sub('\\[[^]]*\\]', '', text)\n",
    "\n",
    "# 去掉噪声\n",
    "def denoise_text(text):\n",
    "    text = strip_html(text)\n",
    "    text = remove_between_square_brackets(text)\n",
    "    return text\n",
    "df['message']=df['message'].apply(denoise_text)"
   ]
  },
  {
   "cell_type": "code",
   "execution_count": 10,
   "id": "f4f3adc6",
   "metadata": {},
   "outputs": [],
   "source": [
    "# 去掉特殊字符\n",
    "def remove_special_characters(text, remove_digits=True):\n",
    "    pattern=r'[^a-zA-z0-9\\s]'\n",
    "    text=re.sub(pattern,'',text)\n",
    "    return text\n",
    "df['message']=df['message'].apply(remove_special_characters)"
   ]
  },
  {
   "cell_type": "code",
   "execution_count": 11,
   "id": "85becd07",
   "metadata": {},
   "outputs": [
    {
     "name": "stdout",
     "output_type": "stream",
     "text": [
      "{'wouldn', 've', \"haven't\", 'those', 'shan', 'aren', 'through', 'he', 'who', 'my', \"you're\", 'hers', 'does', 'mightn', 'you', 'here', 'doing', 'down', 'own', 'his', \"aren't\", \"she's\", 'that', 'it', 'more', 'o', 'any', \"needn't\", 'himself', \"don't\", 'these', 'other', 'for', 'such', 'yourself', 'theirs', 'what', 'below', 'as', 'not', 'hasn', 'be', 's', 'between', 'her', 'were', 'no', 'had', 'under', \"didn't\", 'on', 'has', \"mustn't\", 'an', 'of', 'them', 'why', \"you've\", 'whom', \"shouldn't\", 'myself', 'out', 'after', 'hadn', 'only', 'same', 'too', 'by', 'so', 'she', \"doesn't\", 'shouldn', \"shan't\", 'then', 'our', 'its', 'with', 'from', 'very', 'their', 'over', 'mustn', 'because', 'until', 'few', \"should've\", 'just', 'was', 'if', 'didn', 'i', \"it's\", 'couldn', \"that'll\", 'ours', 'weren', 'or', 'me', 're', 'needn', 'yours', 'ourselves', 'into', 'before', 'all', 'is', 'they', 'once', 'doesn', 'off', \"wasn't\", 'been', 'further', 'him', 'at', 'have', 'while', 'do', 'but', 'against', 'during', 'did', \"wouldn't\", 'are', 'd', 'itself', 'the', 'where', 'won', 'this', 'will', 'themselves', 'isn', 'when', 'yourselves', 'we', \"isn't\", 'about', 'your', 'm', 'haven', 'and', 'above', 'again', 'than', 'ain', 't', \"mightn't\", 'now', 'up', 'each', 'most', 'a', 'y', \"hadn't\", \"couldn't\", \"you'll\", 'll', 'nor', \"hasn't\", 'having', 'should', 'some', \"you'd\", 'which', 'how', 'in', 'being', 'both', 'can', 'don', \"weren't\", 'there', 'ma', 'herself', 'wasn', 'am', 'to', \"won't\"}\n"
     ]
    }
   ],
   "source": [
    "stop=set(stopwords.words('english'))\n",
    "print(stop)\n",
    "\n",
    "# 去掉停留词\n",
    "def remove_stopwords(text, is_lower_case=False):\n",
    "    tokens = tokenizer.tokenize(text)\n",
    "    tokens = [token.strip() for token in tokens]\n",
    "    if is_lower_case:\n",
    "        filtered_tokens = [token for token in tokens if token not in stopword_list]\n",
    "    else:\n",
    "        filtered_tokens = [token for token in tokens if token.lower() not in stopword_list]\n",
    "    filtered_text = ' '.join(filtered_tokens)    \n",
    "    return filtered_text\n",
    "df['message']=df['message'].apply(remove_stopwords)"
   ]
  },
  {
   "cell_type": "code",
   "execution_count": 12,
   "id": "09ed8997",
   "metadata": {},
   "outputs": [],
   "source": [
    "import nltk  "
   ]
  },
  {
   "cell_type": "code",
   "execution_count": 13,
   "id": "aa9f8914",
   "metadata": {},
   "outputs": [],
   "source": [
    "df['message'] = df['message'].apply(nltk.word_tokenize)  "
   ]
  },
  {
   "cell_type": "code",
   "execution_count": 14,
   "id": "8e234458",
   "metadata": {},
   "outputs": [
    {
     "data": {
      "text/html": [
       "<div>\n",
       "<style scoped>\n",
       "    .dataframe tbody tr th:only-of-type {\n",
       "        vertical-align: middle;\n",
       "    }\n",
       "\n",
       "    .dataframe tbody tr th {\n",
       "        vertical-align: top;\n",
       "    }\n",
       "\n",
       "    .dataframe thead th {\n",
       "        text-align: right;\n",
       "    }\n",
       "</style>\n",
       "<table border=\"1\" class=\"dataframe\">\n",
       "  <thead>\n",
       "    <tr style=\"text-align: right;\">\n",
       "      <th></th>\n",
       "      <th>label</th>\n",
       "      <th>message</th>\n",
       "    </tr>\n",
       "  </thead>\n",
       "  <tbody>\n",
       "    <tr>\n",
       "      <th>0</th>\n",
       "      <td>0</td>\n",
       "      <td>[go, jurong, point, crazy, available, bugis, n...</td>\n",
       "    </tr>\n",
       "    <tr>\n",
       "      <th>1</th>\n",
       "      <td>0</td>\n",
       "      <td>[ok, lar, joking, wif, u, oni]</td>\n",
       "    </tr>\n",
       "    <tr>\n",
       "      <th>2</th>\n",
       "      <td>1</td>\n",
       "      <td>[free, entry, 2, wkly, comp, win, fa, cup, fin...</td>\n",
       "    </tr>\n",
       "    <tr>\n",
       "      <th>3</th>\n",
       "      <td>0</td>\n",
       "      <td>[u, dun, say, early, hor, u, c, already, say]</td>\n",
       "    </tr>\n",
       "    <tr>\n",
       "      <th>4</th>\n",
       "      <td>0</td>\n",
       "      <td>[nah, dont, think, goes, usf, lives, around, t...</td>\n",
       "    </tr>\n",
       "    <tr>\n",
       "      <th>...</th>\n",
       "      <td>...</td>\n",
       "      <td>...</td>\n",
       "    </tr>\n",
       "    <tr>\n",
       "      <th>5567</th>\n",
       "      <td>1</td>\n",
       "      <td>[2nd, time, tried, 2, contact, u, u, 750, poun...</td>\n",
       "    </tr>\n",
       "    <tr>\n",
       "      <th>5568</th>\n",
       "      <td>0</td>\n",
       "      <td>[b, going, esplanade, fr, home]</td>\n",
       "    </tr>\n",
       "    <tr>\n",
       "      <th>5569</th>\n",
       "      <td>0</td>\n",
       "      <td>[pity, mood, soany, suggestions]</td>\n",
       "    </tr>\n",
       "    <tr>\n",
       "      <th>5570</th>\n",
       "      <td>0</td>\n",
       "      <td>[guy, bitching, acted, like, id, interested, b...</td>\n",
       "    </tr>\n",
       "    <tr>\n",
       "      <th>5571</th>\n",
       "      <td>0</td>\n",
       "      <td>[rofl, true, name]</td>\n",
       "    </tr>\n",
       "  </tbody>\n",
       "</table>\n",
       "<p>5572 rows × 2 columns</p>\n",
       "</div>"
      ],
      "text/plain": [
       "      label                                            message\n",
       "0         0  [go, jurong, point, crazy, available, bugis, n...\n",
       "1         0                     [ok, lar, joking, wif, u, oni]\n",
       "2         1  [free, entry, 2, wkly, comp, win, fa, cup, fin...\n",
       "3         0      [u, dun, say, early, hor, u, c, already, say]\n",
       "4         0  [nah, dont, think, goes, usf, lives, around, t...\n",
       "...     ...                                                ...\n",
       "5567      1  [2nd, time, tried, 2, contact, u, u, 750, poun...\n",
       "5568      0                    [b, going, esplanade, fr, home]\n",
       "5569      0                   [pity, mood, soany, suggestions]\n",
       "5570      0  [guy, bitching, acted, like, id, interested, b...\n",
       "5571      0                                 [rofl, true, name]\n",
       "\n",
       "[5572 rows x 2 columns]"
      ]
     },
     "execution_count": 14,
     "metadata": {},
     "output_type": "execute_result"
    }
   ],
   "source": [
    "df"
   ]
  },
  {
   "cell_type": "code",
   "execution_count": 15,
   "id": "f974a2b5",
   "metadata": {},
   "outputs": [],
   "source": [
    "# 词干提取\n",
    "from nltk.stem import PorterStemmer\n",
    " \n",
    "stemmer = PorterStemmer()\n",
    " \n",
    "df['message'] = df['message'].apply(lambda x: [stemmer.stem(y) for y in x]) "
   ]
  },
  {
   "cell_type": "code",
   "execution_count": 16,
   "id": "e1c183cf",
   "metadata": {},
   "outputs": [],
   "source": [
    "# 词袋法\n",
    "\n",
    "from sklearn.feature_extraction.text import CountVectorizer\n",
    "df['message'] = df['message'].apply(lambda x: ' '.join(x))\n",
    " \n",
    "count_vect = CountVectorizer()  \n",
    "bigram_wrds = count_vect.fit_transform(df['message'])  "
   ]
  },
  {
   "cell_type": "code",
   "execution_count": 17,
   "id": "6dcacb04",
   "metadata": {},
   "outputs": [],
   "source": [
    "# TF-IDF\n",
    "count_vect_tfidf = TfidfVectorizer(ngram_range = (1, 2))\n",
    "tfidf_wrds = count_vect_tfidf.fit_transform(df['message'])  "
   ]
  },
  {
   "cell_type": "code",
   "execution_count": 18,
   "id": "fa6cb6f8",
   "metadata": {},
   "outputs": [
    {
     "name": "stdout",
     "output_type": "stream",
     "text": [
      "计数法测试集准确率: 97.48803827751196\n",
      "计数法训练集准确率: 99.38461538461539\n",
      "              precision    recall  f1-score   support\n",
      "\n",
      "           0       0.99      0.98      0.99      1448\n",
      "           1       0.88      0.95      0.91       224\n",
      "\n",
      "    accuracy                           0.97      1672\n",
      "   macro avg       0.93      0.96      0.95      1672\n",
      "weighted avg       0.98      0.97      0.98      1672\n",
      "\n"
     ]
    },
    {
     "data": {
      "image/png": "[encoded data removed]",
      "text/plain": [
       "<Figure size 432x288 with 2 Axes>"
      ]
     },
     "metadata": {
      "needs_background": "light"
     },
     "output_type": "display_data"
    }
   ],
   "source": [
    "from sklearn.metrics import confusion_matrix\n",
    "from sklearn.model_selection import train_test_split\n",
    "from sklearn.metrics import accuracy_score \n",
    "X = bigram_wrds\n",
    "Y = df['label']\n",
    "x_l, x_test, y_l, y_test = train_test_split(X, Y, test_size = 0.3, random_state = 42)\n",
    "from sklearn.naive_bayes import MultinomialNB\n",
    "clf = MultinomialNB(alpha = 0.7)\n",
    "clf.fit(x_l, y_l)\n",
    "pred = clf.predict(x_test)\n",
    "acc = accuracy_score(y_test, pred, normalize = True) * float(100)  \n",
    "print(\"计数法测试集准确率:\", acc)\n",
    "sns.heatmap(confusion_matrix(y_test, pred), annot = True, fmt = 'd')\n",
    "train_acc = accuracy_score(y_l, clf.predict(x_l), normalize = True) * float(100)\n",
    "print(\"计数法训练集准确率:\", train_acc)\n",
    "print(classification_report(y_test, pred))"
   ]
  },
  {
   "cell_type": "code",
   "execution_count": 19,
   "id": "5f4af2d8",
   "metadata": {},
   "outputs": [
    {
     "name": "stdout",
     "output_type": "stream",
     "text": [
      "TF-IDF法测试集准确率: 96.35167464114832\n",
      "TF-IDF法训练集准确率: 98.17948717948718\n",
      "              precision    recall  f1-score   support\n",
      "\n",
      "           0       0.96      1.00      0.98      1448\n",
      "           1       1.00      0.73      0.84       224\n",
      "\n",
      "    accuracy                           0.96      1672\n",
      "   macro avg       0.98      0.86      0.91      1672\n",
      "weighted avg       0.96      0.96      0.96      1672\n",
      "\n"
     ]
    },
    {
     "data": {
      "image/png": "[encoded data removed]",
      "text/plain": [
       "<Figure size 432x288 with 2 Axes>"
      ]
     },
     "metadata": {
      "needs_background": "light"
     },
     "output_type": "display_data"
    }
   ],
   "source": [
    "from sklearn.metrics import confusion_matrix\n",
    "from sklearn.model_selection import train_test_split\n",
    "from sklearn.metrics import accuracy_score \n",
    "X = tfidf_wrds\n",
    "Y = df['label']\n",
    "x_l, x_test, y_l, y_test = train_test_split(X, Y, test_size = 0.3, random_state = 42)\n",
    "from sklearn.naive_bayes import MultinomialNB\n",
    "clf = MultinomialNB(alpha = 0.7)\n",
    "clf.fit(x_l, y_l)\n",
    "pred = clf.predict(x_test)\n",
    "acc = accuracy_score(y_test, pred, normalize = True) * float(100)  \n",
    "print(\"TF-IDF法测试集准确率:\", acc)\n",
    "sns.heatmap(confusion_matrix(y_test, pred), annot = True, fmt = 'd')\n",
    "train_acc = accuracy_score(y_l, clf.predict(x_l), normalize = True) * float(100)\n",
    "print(\"TF-IDF法训练集准确率:\", train_acc)\n",
    "print(classification_report(y_test, pred))"
   ]
  },
  {
   "cell_type": "code",
   "execution_count": null,
   "id": "5d4ae208",
   "metadata": {},
   "outputs": [],
   "source": []
  }
 ],
 "metadata": {
  "kernelspec": {
   "display_name": "Python 3",
   "language": "python",
   "name": "python3"
  },
  "language_info": {
   "codemirror_mode": {
    "name": "ipython",
    "version": 3
   },
   "file_extension": ".py",
   "mimetype": "text/x-python",
   "name": "python",
   "nbconvert_exporter": "python",
   "pygments_lexer": "ipython3",
   "version": "3.7.10"
  }
 },
 "nbformat": 4,
 "nbformat_minor": 5
}
