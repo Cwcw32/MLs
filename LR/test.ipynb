{
 "cells": [
  {
   "cell_type": "code",
   "execution_count": 1,
   "metadata": {},
   "outputs": [],
   "source": [
    "# 常用科学计算工具\n",
    "import pandas as pd\n",
    "# 数据集训练集划分\n",
    "import seaborn as sns\n",
    "from sklearn.model_selection import train_test_split\n",
    "# 对特征进行标准化处理（特征缩放）\n",
    "from sklearn.preprocessing import StandardScaler\n",
    "# 画图用\n",
    "import matplotlib.pyplot as plt\n",
    "# 逻辑回归模型\n",
    "from sklearn.linear_model import LogisticRegression\n",
    "# 常用科学计算工具\n",
    "import numpy as np\n",
    "# 绘制混淆矩阵\n",
    "from sklearn.metrics import confusion_matrix\n",
    "# 支持中文格式\n",
    "from pylab import mpl\n",
    "# 比较不同模型\n",
    "from sklearn import linear_model\n",
    "# 将字符串转换为整数型，数据处理\n",
    "from sklearn.preprocessing import LabelEncoder\n",
    "from sklearn import metrics\n",
    "import warnings\n",
    "warnings.filterwarnings(\"ignore\")\n",
    "\"\"\"\n",
    "# 数据集说明\n",
    "# | names file (C4.5 format) for car evaluation domain\n",
    "#\n",
    "# | class values\n",
    "#\n",
    "# unacc, acc, good, vgood\n",
    "#\n",
    "# | attributes\n",
    "#\n",
    "# buying:   vhigh, high, med, low.\n",
    "# maint:    vhigh, high, med, low.\n",
    "# doors:    2, 3, 4, 5more.\n",
    "# persons:  2, 4, more.\n",
    "# lug_boot: small, med, big.\n",
    "# safety:   low, med, high.\n",
    "\"\"\"\n",
    "\n",
    "\n",
    "# 参考网站\n",
    "# https://blog.csdn.net/weixin_42823019/article/details/112506287\n",
    "name = ['buying', 'maint', 'doors', 'persons', 'lug_boot', 'safety', 'class']\n",
    "\n",
    "def load_data():\n",
    "    \"\"\":cvar\n",
    "    @:param：\n",
    "    @:return:\n",
    "    \"\"\"\n",
    "    data = pd.read_csv('./data/car data.csv', names=name)\n",
    "    print(data)\n",
    "    for i in data.columns:\n",
    "        print(data[i].unique(), \"\\t\", data[i].nunique())\n",
    "\n",
    "    sns.countplot(x=data['class'])\n",
    "    plt.show()\n",
    "    le = LabelEncoder()\n",
    "    for i in data.columns:\n",
    "        data[i] = le.fit_transform(data[i])\n",
    "    X = data[data.columns[:-1]]\n",
    "    y = data['class']  # 标签\n",
    "    X_train, X_test, y_train, y_test = train_test_split(X,\n",
    "                                                        y,\n",
    "                                                        test_size=0.2,\n",
    "                                                        random_state=10)\n",
    "\n",
    "    return X_train, X_test, y_train, y_test\n",
    "\n",
    "\n",
    "def test_skl_LR(X_train, X_test, y_train, y_test):\n",
    "    lr = LogisticRegression(solver='newton-cg',multi_class='multinomial')\n",
    "    lr.fit(X_train, y_train)\n",
    "    y_pred = lr.predict(X_test)\n",
    "    print(metrics.confusion_matrix(y_test, y_pred))\n",
    "    print(metrics.classification_report(y_test, y_pred))\n",
    "\n",
    "\n",
    "\n",
    "    # 加载数据\n"
   ]
  },
  {
   "cell_type": "code",
   "execution_count": 2,
   "metadata": {
    "pycharm": {
     "name": "#%%\n"
    }
   },
   "outputs": [
    {
     "name": "stdout",
     "output_type": "stream",
     "text": [
      "     buying  maint  doors persons lug_boot safety  class\n",
      "0     vhigh  vhigh      2       2    small    low  unacc\n",
      "1     vhigh  vhigh      2       2    small    med  unacc\n",
      "2     vhigh  vhigh      2       2    small   high  unacc\n",
      "3     vhigh  vhigh      2       2      med    low  unacc\n",
      "4     vhigh  vhigh      2       2      med    med  unacc\n",
      "...     ...    ...    ...     ...      ...    ...    ...\n",
      "1723    low    low  5more    more      med    med   good\n",
      "1724    low    low  5more    more      med   high  vgood\n",
      "1725    low    low  5more    more      big    low  unacc\n",
      "1726    low    low  5more    more      big    med   good\n",
      "1727    low    low  5more    more      big   high  vgood\n",
      "\n",
      "[1728 rows x 7 columns]\n",
      "['vhigh' 'high' 'med' 'low'] \t 4\n",
      "['vhigh' 'high' 'med' 'low'] \t 4\n",
      "['2' '3' '4' '5more'] \t 4\n",
      "['2' '4' 'more'] \t 3\n",
      "['small' 'med' 'big'] \t 3\n",
      "['low' 'med' 'high'] \t 3\n",
      "['unacc' 'acc' 'vgood' 'good'] \t 4\n"
     ]
    },
    {
     "data": {
      "image/png": "[encoded data removed]",
      "text/plain": [
       "<Figure size 432x288 with 1 Axes>"
      ]
     },
     "metadata": {
      "needs_background": "light"
     },
     "output_type": "display_data"
    }
   ],
   "source": [
    "    # 设置支持中文字体\n",
    "    mpl.rcParams['font.sans-serif'] = ['FangSong']  # 指定默认字体\n",
    "    mpl.rcParams['axes.unicode_minus'] = False  # 解决保存图像是负号'-'显示为方块的问题\n",
    "    X_train, X_test, y_train, y_test = load_data()\n",
    "\n"
   ]
  },
  {
   "cell_type": "code",
   "execution_count": 3,
   "metadata": {
    "pycharm": {
     "name": "#%%\n"
    }
   },
   "outputs": [
    {
     "name": "stdout",
     "output_type": "stream",
     "text": [
      "dimensions of train: (1382, 6)\n",
      "dimensions of test: (346, 6)\n"
     ]
    }
   ],
   "source": [
    "    print(\"dimensions of train: {}\".format(X_train.shape))\n",
    "    print(\"dimensions of test: {}\".format(X_test.shape))"
   ]
  },
  {
   "cell_type": "code",
   "execution_count": 4,
   "metadata": {},
   "outputs": [],
   "source": [
    "    train=X_train\n",
    "    train['class']=y_train"
   ]
  },
  {
   "cell_type": "code",
   "execution_count": 5,
   "metadata": {},
   "outputs": [
    {
     "data": {
      "text/html": [
       "<div>\n",
       "<style scoped>\n",
       "    .dataframe tbody tr th:only-of-type {\n",
       "        vertical-align: middle;\n",
       "    }\n",
       "\n",
       "    .dataframe tbody tr th {\n",
       "        vertical-align: top;\n",
       "    }\n",
       "\n",
       "    .dataframe thead th {\n",
       "        text-align: right;\n",
       "    }\n",
       "</style>\n",
       "<table border=\"1\" class=\"dataframe\">\n",
       "  <thead>\n",
       "    <tr style=\"text-align: right;\">\n",
       "      <th></th>\n",
       "      <th>buying</th>\n",
       "      <th>maint</th>\n",
       "      <th>doors</th>\n",
       "      <th>persons</th>\n",
       "      <th>lug_boot</th>\n",
       "      <th>safety</th>\n",
       "      <th>class</th>\n",
       "    </tr>\n",
       "  </thead>\n",
       "  <tbody>\n",
       "    <tr>\n",
       "      <th>count</th>\n",
       "      <td>1382.000000</td>\n",
       "      <td>1382.000000</td>\n",
       "      <td>1382.000000</td>\n",
       "      <td>1382.000000</td>\n",
       "      <td>1382.000000</td>\n",
       "      <td>1382.000000</td>\n",
       "      <td>1382.000000</td>\n",
       "    </tr>\n",
       "    <tr>\n",
       "      <th>mean</th>\n",
       "      <td>1.502171</td>\n",
       "      <td>1.512301</td>\n",
       "      <td>1.510130</td>\n",
       "      <td>1.008683</td>\n",
       "      <td>0.995658</td>\n",
       "      <td>0.998553</td>\n",
       "      <td>1.530391</td>\n",
       "    </tr>\n",
       "    <tr>\n",
       "      <th>std</th>\n",
       "      <td>1.122314</td>\n",
       "      <td>1.121604</td>\n",
       "      <td>1.117097</td>\n",
       "      <td>0.816155</td>\n",
       "      <td>0.819730</td>\n",
       "      <td>0.817972</td>\n",
       "      <td>0.883604</td>\n",
       "    </tr>\n",
       "    <tr>\n",
       "      <th>min</th>\n",
       "      <td>0.000000</td>\n",
       "      <td>0.000000</td>\n",
       "      <td>0.000000</td>\n",
       "      <td>0.000000</td>\n",
       "      <td>0.000000</td>\n",
       "      <td>0.000000</td>\n",
       "      <td>0.000000</td>\n",
       "    </tr>\n",
       "    <tr>\n",
       "      <th>25%</th>\n",
       "      <td>0.000000</td>\n",
       "      <td>1.000000</td>\n",
       "      <td>1.000000</td>\n",
       "      <td>0.000000</td>\n",
       "      <td>0.000000</td>\n",
       "      <td>0.000000</td>\n",
       "      <td>1.000000</td>\n",
       "    </tr>\n",
       "    <tr>\n",
       "      <th>50%</th>\n",
       "      <td>2.000000</td>\n",
       "      <td>2.000000</td>\n",
       "      <td>2.000000</td>\n",
       "      <td>1.000000</td>\n",
       "      <td>1.000000</td>\n",
       "      <td>1.000000</td>\n",
       "      <td>2.000000</td>\n",
       "    </tr>\n",
       "    <tr>\n",
       "      <th>75%</th>\n",
       "      <td>3.000000</td>\n",
       "      <td>3.000000</td>\n",
       "      <td>3.000000</td>\n",
       "      <td>2.000000</td>\n",
       "      <td>2.000000</td>\n",
       "      <td>2.000000</td>\n",
       "      <td>2.000000</td>\n",
       "    </tr>\n",
       "    <tr>\n",
       "      <th>max</th>\n",
       "      <td>3.000000</td>\n",
       "      <td>3.000000</td>\n",
       "      <td>3.000000</td>\n",
       "      <td>2.000000</td>\n",
       "      <td>2.000000</td>\n",
       "      <td>2.000000</td>\n",
       "      <td>3.000000</td>\n",
       "    </tr>\n",
       "  </tbody>\n",
       "</table>\n",
       "</div>"
      ],
      "text/plain": [
       "            buying        maint        doors      persons     lug_boot  \\\n",
       "count  1382.000000  1382.000000  1382.000000  1382.000000  1382.000000   \n",
       "mean      1.502171     1.512301     1.510130     1.008683     0.995658   \n",
       "std       1.122314     1.121604     1.117097     0.816155     0.819730   \n",
       "min       0.000000     0.000000     0.000000     0.000000     0.000000   \n",
       "25%       0.000000     1.000000     1.000000     0.000000     0.000000   \n",
       "50%       2.000000     2.000000     2.000000     1.000000     1.000000   \n",
       "75%       3.000000     3.000000     3.000000     2.000000     2.000000   \n",
       "max       3.000000     3.000000     3.000000     2.000000     2.000000   \n",
       "\n",
       "            safety        class  \n",
       "count  1382.000000  1382.000000  \n",
       "mean      0.998553     1.530391  \n",
       "std       0.817972     0.883604  \n",
       "min       0.000000     0.000000  \n",
       "25%       0.000000     1.000000  \n",
       "50%       1.000000     2.000000  \n",
       "75%       2.000000     2.000000  \n",
       "max       2.000000     3.000000  "
      ]
     },
     "execution_count": 5,
     "metadata": {},
     "output_type": "execute_result"
    }
   ],
   "source": [
    "    train.describe()"
   ]
  },
  {
   "cell_type": "code",
   "execution_count": 6,
   "metadata": {
    "pycharm": {
     "name": "#%%\n"
    }
   },
   "outputs": [
    {
     "data": {
      "text/html": [
       "<div>\n",
       "<style scoped>\n",
       "    .dataframe tbody tr th:only-of-type {\n",
       "        vertical-align: middle;\n",
       "    }\n",
       "\n",
       "    .dataframe tbody tr th {\n",
       "        vertical-align: top;\n",
       "    }\n",
       "\n",
       "    .dataframe thead th {\n",
       "        text-align: right;\n",
       "    }\n",
       "</style>\n",
       "<table border=\"1\" class=\"dataframe\">\n",
       "  <thead>\n",
       "    <tr style=\"text-align: right;\">\n",
       "      <th></th>\n",
       "      <th>buying</th>\n",
       "      <th>maint</th>\n",
       "      <th>doors</th>\n",
       "      <th>persons</th>\n",
       "      <th>lug_boot</th>\n",
       "      <th>safety</th>\n",
       "      <th>class</th>\n",
       "    </tr>\n",
       "  </thead>\n",
       "  <tbody>\n",
       "    <tr>\n",
       "      <th>153</th>\n",
       "      <td>3</td>\n",
       "      <td>0</td>\n",
       "      <td>1</td>\n",
       "      <td>2</td>\n",
       "      <td>2</td>\n",
       "      <td>1</td>\n",
       "      <td>2</td>\n",
       "    </tr>\n",
       "    <tr>\n",
       "      <th>1333</th>\n",
       "      <td>1</td>\n",
       "      <td>3</td>\n",
       "      <td>1</td>\n",
       "      <td>1</td>\n",
       "      <td>2</td>\n",
       "      <td>2</td>\n",
       "      <td>2</td>\n",
       "    </tr>\n",
       "    <tr>\n",
       "      <th>1509</th>\n",
       "      <td>1</td>\n",
       "      <td>0</td>\n",
       "      <td>3</td>\n",
       "      <td>2</td>\n",
       "      <td>0</td>\n",
       "      <td>1</td>\n",
       "      <td>2</td>\n",
       "    </tr>\n",
       "    <tr>\n",
       "      <th>703</th>\n",
       "      <td>0</td>\n",
       "      <td>2</td>\n",
       "      <td>2</td>\n",
       "      <td>0</td>\n",
       "      <td>2</td>\n",
       "      <td>2</td>\n",
       "      <td>2</td>\n",
       "    </tr>\n",
       "    <tr>\n",
       "      <th>1672</th>\n",
       "      <td>1</td>\n",
       "      <td>1</td>\n",
       "      <td>1</td>\n",
       "      <td>2</td>\n",
       "      <td>0</td>\n",
       "      <td>2</td>\n",
       "      <td>1</td>\n",
       "    </tr>\n",
       "  </tbody>\n",
       "</table>\n",
       "</div>"
      ],
      "text/plain": [
       "      buying  maint  doors  persons  lug_boot  safety  class\n",
       "153        3      0      1        2         2       1      2\n",
       "1333       1      3      1        1         2       2      2\n",
       "1509       1      0      3        2         0       1      2\n",
       "703        0      2      2        0         2       2      2\n",
       "1672       1      1      1        2         0       2      1"
      ]
     },
     "execution_count": 6,
     "metadata": {},
     "output_type": "execute_result"
    }
   ],
   "source": [
    "    train.head()\n",
    "    "
   ]
  },
  {
   "cell_type": "code",
   "execution_count": 7,
   "metadata": {},
   "outputs": [
    {
     "data": {
      "text/plain": [
       "2    959\n",
       "0    320\n",
       "1     56\n",
       "3     47\n",
       "Name: class, dtype: int64"
      ]
     },
     "execution_count": 7,
     "metadata": {},
     "output_type": "execute_result"
    }
   ],
   "source": [
    "train['class'].value_counts()"
   ]
  },
  {
   "cell_type": "code",
   "execution_count": 8,
   "metadata": {},
   "outputs": [
    {
     "data": {
      "text/plain": [
       "<AxesSubplot:xlabel='class', ylabel='count'>"
      ]
     },
     "execution_count": 8,
     "metadata": {},
     "output_type": "execute_result"
    },
    {
     "data": {
      "image/png": "[encoded data removed]",
      "text/plain": [
       "<Figure size 432x288 with 1 Axes>"
      ]
     },
     "metadata": {
      "needs_background": "light"
     },
     "output_type": "display_data"
    }
   ],
   "source": [
    "sns.countplot(train['class'])"
   ]
  },
  {
   "cell_type": "code",
   "execution_count": 9,
   "metadata": {},
   "outputs": [
    {
     "data": {
      "image/png": "[encoded data removed]",
      "text/plain": [
       "<Figure size 1008x648 with 6 Axes>"
      ]
     },
     "metadata": {
      "needs_background": "light"
     },
     "output_type": "display_data"
    }
   ],
   "source": [
    "cols=['buying','maint', 'doors', 'persons', 'lug_boot','safety']\n",
    "n_rows=2\n",
    "n_cols=3\n",
    "fig,axs=plt.subplots(n_rows,n_cols,figsize=(n_rows*7,n_cols*3))\n",
    "for r in range(0,n_rows):\n",
    "    for c in range(0,n_cols):\n",
    "        i=r*n_cols+c\n",
    "        if(i<6):\n",
    "            ax=axs[r][c]\n",
    "            sns.countplot(train[cols[i]],hue=train['class'],ax=ax)\n",
    "            ax.set_title(cols[i])\n",
    "            ax.legend(title='class',loc='upper right')\n",
    "plt.tight_layout()"
   ]
  },
  {
   "cell_type": "code",
   "execution_count": 10,
   "metadata": {},
   "outputs": [
    {
     "name": "stdout",
     "output_type": "stream",
     "text": [
      "     buying  maint  doors persons lug_boot safety  class\n",
      "0     vhigh  vhigh      2       2    small    low  unacc\n",
      "1     vhigh  vhigh      2       2    small    med  unacc\n",
      "2     vhigh  vhigh      2       2    small   high  unacc\n",
      "3     vhigh  vhigh      2       2      med    low  unacc\n",
      "4     vhigh  vhigh      2       2      med    med  unacc\n",
      "...     ...    ...    ...     ...      ...    ...    ...\n",
      "1723    low    low  5more    more      med    med   good\n",
      "1724    low    low  5more    more      med   high  vgood\n",
      "1725    low    low  5more    more      big    low  unacc\n",
      "1726    low    low  5more    more      big    med   good\n",
      "1727    low    low  5more    more      big   high  vgood\n",
      "\n",
      "[1728 rows x 7 columns]\n",
      "['vhigh' 'high' 'med' 'low'] \t 4\n",
      "['vhigh' 'high' 'med' 'low'] \t 4\n",
      "['2' '3' '4' '5more'] \t 4\n",
      "['2' '4' 'more'] \t 3\n",
      "['small' 'med' 'big'] \t 3\n",
      "['low' 'med' 'high'] \t 3\n",
      "['unacc' 'acc' 'vgood' 'good'] \t 4\n"
     ]
    },
    {
     "data": {
      "image/png": "[encoded data removed]",
      "text/plain": [
       "<Figure size 432x288 with 1 Axes>"
      ]
     },
     "metadata": {
      "needs_background": "light"
     },
     "output_type": "display_data"
    },
    {
     "name": "stdout",
     "output_type": "stream",
     "text": [
      "在测试集上预测的准确率: 0.71\n"
     ]
    }
   ],
   "source": [
    "X_train, X_test, y_train, y_test = load_data()\n",
    "lr = LogisticRegression(multi_class='multinomial')\n",
    "lr.fit(X_train, y_train)\n",
    "y_pred = lr.predict(X_test)\n",
    "print('在测试集上预测的准确率: {:.2f}'.format(lr.score(X_test, y_test)))"
   ]
  },
  {
   "cell_type": "code",
   "execution_count": 11,
   "metadata": {},
   "outputs": [
    {
     "data": {
      "image/png": "[encoded data removed]",
      "text/plain": [
       "<Figure size 432x288 with 1 Axes>"
      ]
     },
     "metadata": {
      "needs_background": "light"
     },
     "output_type": "display_data"
    },
    {
     "data": {
      "text/plain": [
       "(0.6725722342595044, 0.04240030410299622)"
      ]
     },
     "execution_count": 11,
     "metadata": {},
     "output_type": "execute_result"
    },
    {
     "data": {
      "image/png": "[encoded data removed]",
      "text/plain": [
       "<Figure size 432x288 with 1 Axes>"
      ]
     },
     "metadata": {
      "needs_background": "light"
     },
     "output_type": "display_data"
    }
   ],
   "source": [
    "\n",
    "from sklearn.model_selection import learning_curve \n",
    "# 用sklearn的learning_curve得到training_score和cv_score，使用matplotlib画出learning curve\n",
    "def plot_learning_curve(estimator, title, X, y, ylim=None, cv=None, n_jobs=1, \n",
    "                        train_sizes=np.linspace(.05, 1., 20), verbose=0, plot=True):\n",
    "    \"\"\"\n",
    "    画出data在某模型上的learning curve.\n",
    "    参数解释\n",
    "    ----------\n",
    "    estimator : 你用的分类器。\n",
    "    title : 表格的标题。\n",
    "    X : 输入的feature，numpy类型\n",
    "    y : 输入的target vector\n",
    "    ylim : tuple格式的(ymin, ymax), 设定图像中纵坐标的最低点和最高点\n",
    "    cv : 做cross-validation的时候，数据分成的份数，其中一份作为cv集，其余n-1份作为training(默认为3份)\n",
    "    n_jobs : 并行的的任务数(默认1)\n",
    "    \"\"\"\n",
    "    train_sizes, train_scores, test_scores = learning_curve(\n",
    "        estimator, X, y, cv=cv, n_jobs=n_jobs, train_sizes=train_sizes, verbose=verbose)\n",
    " \n",
    "    train_scores_mean = np.mean(train_scores, axis=1)\n",
    "    train_scores_std = np.std(train_scores, axis=1)\n",
    "    test_scores_mean = np.mean(test_scores, axis=1)\n",
    "    test_scores_std = np.std(test_scores, axis=1)\n",
    " \n",
    "    if plot:\n",
    "        plt.figure()\n",
    "        plt.title(title)\n",
    "        if ylim is not None:\n",
    "            plt.ylim(*ylim)\n",
    "        plt.xlabel(u\"训练样本数\")\n",
    "        plt.ylabel(u\"得分\")\n",
    "        plt.gca().invert_yaxis()\n",
    "        plt.grid()\n",
    " \n",
    "        plt.fill_between(train_sizes, train_scores_mean - train_scores_std, train_scores_mean + train_scores_std, \n",
    "                         alpha=0.1, color=\"b\")\n",
    "        plt.fill_between(train_sizes, test_scores_mean - test_scores_std, test_scores_mean + test_scores_std, \n",
    "                         alpha=0.1, color=\"r\")\n",
    "        plt.plot(train_sizes, train_scores_mean, 'o-', color=\"b\", label=u\"训练集上得分\")\n",
    "        plt.plot(train_sizes, test_scores_mean, 'o-', color=\"r\", label=u\"交叉验证集上得分\")\n",
    " \n",
    "        plt.legend(loc=\"best\")\n",
    " \n",
    "        plt.draw()\n",
    "        plt.show()\n",
    "        plt.gca().invert_yaxis()\n",
    " \n",
    "    midpoint = ((train_scores_mean[-1] + train_scores_std[-1]) + (test_scores_mean[-1] - test_scores_std[-1])) / 2\n",
    "    diff = (train_scores_mean[-1] + train_scores_std[-1]) - (test_scores_mean[-1] - test_scores_std[-1])\n",
    "    return midpoint, diff\n",
    " \n",
    "    \n",
    "plot_learning_curve(lr, u\"学习曲线\", X_train, y_train)"
   ]
  },
  {
   "cell_type": "code",
   "execution_count": 12,
   "metadata": {},
   "outputs": [],
   "source": [
    "from imblearn.over_sampling import SMOTE    #过采样避免数据不平衡\n",
    "from sklearn.model_selection import train_test_split\n",
    "from collections import Counter        #计数,分类统计好各种类别的数量\n",
    "from sklearn.linear_model import LogisticRegression\n",
    "from sklearn.ensemble import RandomForestClassifier\n",
    "from sklearn.metrics import confusion_matrix,accuracy_score,precision_score,recall_score,fbeta_score,precision_recall_curve#混合矩阵、准确度、精确度、召回率、f值、精确度与召回率曲线\n",
    "from sklearn.model_selection import cross_val_score    \n",
    "from sklearn.model_selection import GridSearchCV     #网格自动调参\n",
    "\n",
    "import warnings    #忽略warning\n",
    "warnings.filterwarnings(\"ignore\", category=DeprecationWarning) "
   ]
  },
  {
   "cell_type": "code",
   "execution_count": 13,
   "metadata": {},
   "outputs": [
    {
     "name": "stdout",
     "output_type": "stream",
     "text": [
      "过采样之前训练集中正负样本的比例分布:\n",
      "2    959\n",
      "Name: class, dtype: int64\n",
      "2    0.693922\n",
      "Name: class, dtype: float64\n",
      "-------------------------------------------\n",
      "过采样之后训练集中正负样本的比例分布:\n",
      "0    320\n",
      "Name: class, dtype: int64\n",
      "0    0.231548\n",
      "Name: class, dtype: float64\n"
     ]
    }
   ],
   "source": [
    "print('过采样之前训练集中正负样本的比例分布:')\n",
    "print(y_train[y_train==2].value_counts())\n",
    "print(y_train[y_train==2].value_counts()/len(y_train))\n",
    "os = SMOTE(random_state=0)\n",
    "os_data_X,os_data_y=os.fit_resample(X_train, y_train.values.ravel())\n",
    "os_data_X = pd.DataFrame(data=os_data_X,columns=name )\n",
    "os_data_y= pd.DataFrame(data=os_data_y,columns=['class'])\n",
    "print('-------------------------------------------')\n",
    "print('过采样之后训练集中正负样本的比例分布:')\n",
    "print(y_train[y_train==0].value_counts())\n",
    "print(y_train[y_train==0].value_counts()/len(y_train))"
   ]
  },
  {
   "cell_type": "code",
   "execution_count": 15,
   "metadata": {},
   "outputs": [],
   "source": [
    "os_data_X=os_data_X.drop(['class'],axis=1)"
   ]
  },
  {
   "cell_type": "code",
   "execution_count": 19,
   "metadata": {},
   "outputs": [
    {
     "name": "stdout",
     "output_type": "stream",
     "text": [
      "原特征数量: 6\n",
      "\n",
      "经过模型筛选后的3个特征：\n",
      "['buying', 'maint', 'doors', 'persons', 'lug_boot', 'safety']\n",
      "\n",
      "特征排名:\n",
      "[1 1 1 1 1 1]\n"
     ]
    }
   ],
   "source": [
    "from sklearn import datasets\n",
    "from sklearn.feature_selection import RFE\n",
    "from sklearn.linear_model import LogisticRegression\n",
    " \n",
    "logreg = LogisticRegression()\n",
    " \n",
    "rfe = RFE(logreg,6)#选择20个特征\n",
    "rfe = rfe.fit(os_data_X.values, os_data_y.values.ravel())\n",
    " \n",
    "features = list(os_data_X.columns[rfe.support_])\n",
    " \n",
    "print('原特征数量:',os_data_X.shape[1])\n",
    "print()\n",
    "print('经过模型筛选后的6个特征：')\n",
    "print(features)\n",
    "print()\n",
    "print('特征排名:')\n",
    "print(rfe.ranking_)"
   ]
  },
  {
   "cell_type": "code",
   "execution_count": null,
   "metadata": {},
   "outputs": [],
   "source": []
  },
  {
   "cell_type": "code",
   "execution_count": 20,
   "metadata": {},
   "outputs": [
    {
     "name": "stdout",
     "output_type": "stream",
     "text": [
      "在测试集上预测的准确率: 0.55\n"
     ]
    }
   ],
   "source": [
    "X=os_data_X[features]\n",
    "y=os_data_y['class']\n",
    " \n",
    "X_train, X_test, y_train, y_test = train_test_split(X, y, test_size=0.3, random_state=0)\n",
    "logreg = LogisticRegression(solver='liblinear')\n",
    "logreg.fit(X_train, y_train)\n",
    " \n",
    "#在测试集上进行预测\n",
    "y_pred = logreg.predict(X_test)\n",
    "print('在测试集上预测的准确率: {:.2f}'.format(logreg.score(X_test, y_test)))"
   ]
  },
  {
   "cell_type": "code",
   "execution_count": null,
   "metadata": {},
   "outputs": [],
   "source": []
  }
 ],
 "metadata": {
  "kernelspec": {
   "display_name": "Python 3",
   "language": "python",
   "name": "python3"
  },
  "language_info": {
   "codemirror_mode": {
    "name": "ipython",
    "version": 3
   },
   "file_extension": ".py",
   "mimetype": "text/x-python",
   "name": "python",
   "nbconvert_exporter": "python",
   "pygments_lexer": "ipython3",
   "version": "3.7.10"
  }
 },
 "nbformat": 4,
 "nbformat_minor": 1
}
